{
 "cells": [
  {
   "cell_type": "code",
   "execution_count": 1,
   "metadata": {
    "collapsed": true
   },
   "outputs": [],
   "source": [
    "from selenium import webdriver"
   ]
  },
  {
   "cell_type": "code",
   "execution_count": 3,
   "metadata": {
    "collapsed": false
   },
   "outputs": [],
   "source": [
    "driver = webdriver.Chrome('C:/Users/Jin/Downloads/chromedriver')\n",
    "driver.implicitly_wait(3)   ### 웹 자연 로드를 의하여 대기하는 시간"
   ]
  },
  {
   "cell_type": "code",
   "execution_count": 4,
   "metadata": {
    "collapsed": true
   },
   "outputs": [],
   "source": [
    "driver.get('https://google.com') ### url 접속하기"
   ]
  },
  {
   "cell_type": "raw",
   "metadata": {},
   "source": [
    "URL에 접근하는 api,\n",
    "\n",
    "get(‘http://url.com’)\n",
    "페이지의 단일 element에 접근하는 api,\n",
    "\n",
    "find_element_by_name(‘HTML_name’)\n",
    "find_element_by_id(‘HTML_id’)\n",
    "find_element_by_xpath(‘/html/body/some/xpath’)\n",
    "페이지의 여러 elements에 접근하는 api 등이 있다.\n",
    "\n",
    "find_element_by_css_selector(‘#css > div.selector’)\n",
    "find_element_by_class_name(‘some_class_name’)\n",
    "find_element_by_tag_name(‘h1’)\n",
    "\n",
    "\n",
    "위 메소드들을 활용시 HTML을 브라우저에서 파싱해주기 때문에 굳이 Python와 BeautifulSoup을 사용하지 않아도 된다.\n",
    "\n",
    "하지만 Selenium에 내장된 함수만 사용가능하기 때문에 좀더 사용이 편리한 soup객체를 이용하려면 driver.page_source API를 이용해 현재 렌더링 된 페이지의 Elements를 모두 가져올 수 있다."
   ]
  },
  {
   "cell_type": "code",
   "execution_count": 5,
   "metadata": {
    "collapsed": true
   },
   "outputs": [],
   "source": [
    "### 네이버 로그인해보기\n",
    "driver.get('https://nid.naver.com/nidlogin.login')"
   ]
  },
  {
   "cell_type": "code",
   "execution_count": 6,
   "metadata": {
    "collapsed": true
   },
   "outputs": [],
   "source": [
    "driver.find_element_by_name('id').send_keys('gusen927')\n",
    "driver.find_element_by_name('pw').send_keys('rnfl@9884')"
   ]
  },
  {
   "cell_type": "code",
   "execution_count": 7,
   "metadata": {
    "collapsed": true
   },
   "outputs": [],
   "source": [
    "driver.find_element_by_class_name('btn_global').click()"
   ]
  },
  {
   "cell_type": "code",
   "execution_count": null,
   "metadata": {
    "collapsed": true
   },
   "outputs": [],
   "source": [
    "### Naver 페이 들어가서 "
   ]
  }
 ],
 "metadata": {
  "kernelspec": {
   "display_name": "Python [conda root]",
   "language": "python",
   "name": "conda-root-py"
  },
  "language_info": {
   "codemirror_mode": {
    "name": "ipython",
    "version": 3
   },
   "file_extension": ".py",
   "mimetype": "text/x-python",
   "name": "python",
   "nbconvert_exporter": "python",
   "pygments_lexer": "ipython3",
   "version": "3.5.2"
  }
 },
 "nbformat": 4,
 "nbformat_minor": 1
}
