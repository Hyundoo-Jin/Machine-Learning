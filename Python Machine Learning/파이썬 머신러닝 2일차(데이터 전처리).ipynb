{
 "cells": [
  {
   "cell_type": "code",
   "execution_count": 3,
   "metadata": {
    "collapsed": true
   },
   "outputs": [],
   "source": [
    "import pandas as pd\n",
    "from io import StringIO\n",
    "import numpy as np"
   ]
  },
  {
   "cell_type": "code",
   "execution_count": 47,
   "metadata": {
    "collapsed": true
   },
   "outputs": [],
   "source": [
    "csv_data = '''a, b, c, d\n",
    "1, 2, 3, 4\n",
    "5, 6,, 8\n",
    "0, 11, 12,'''"
   ]
  },
  {
   "cell_type": "code",
   "execution_count": 48,
   "metadata": {},
   "outputs": [
    {
     "data": {
      "text/plain": [
       "'a, b, c, d\\n1, 2, 3, 4\\n5, 6,, 8\\n10, 11, 12,'"
      ]
     },
     "execution_count": 48,
     "metadata": {},
     "output_type": "execute_result"
    }
   ],
   "source": [
    "csv_data"
   ]
  },
  {
   "cell_type": "code",
   "execution_count": 49,
   "metadata": {
    "collapsed": true
   },
   "outputs": [],
   "source": [
    "df = pd.read_csv(StringIO(csv_data))"
   ]
  },
  {
   "cell_type": "code",
   "execution_count": 22,
   "metadata": {},
   "outputs": [
    {
     "data": {
      "text/html": [
       "<div>\n",
       "<style>\n",
       "    .dataframe thead tr:only-child th {\n",
       "        text-align: right;\n",
       "    }\n",
       "\n",
       "    .dataframe thead th {\n",
       "        text-align: left;\n",
       "    }\n",
       "\n",
       "    .dataframe tbody tr th {\n",
       "        vertical-align: top;\n",
       "    }\n",
       "</style>\n",
       "<table border=\"1\" class=\"dataframe\">\n",
       "  <thead>\n",
       "    <tr style=\"text-align: right;\">\n",
       "      <th></th>\n",
       "      <th>a</th>\n",
       "      <th>b</th>\n",
       "      <th>c</th>\n",
       "      <th>d</th>\n",
       "    </tr>\n",
       "  </thead>\n",
       "  <tbody>\n",
       "    <tr>\n",
       "      <th>0</th>\n",
       "      <td>1</td>\n",
       "      <td>2</td>\n",
       "      <td>3.0</td>\n",
       "      <td>4.0</td>\n",
       "    </tr>\n",
       "    <tr>\n",
       "      <th>1</th>\n",
       "      <td>5</td>\n",
       "      <td>6</td>\n",
       "      <td>NaN</td>\n",
       "      <td>8.0</td>\n",
       "    </tr>\n",
       "    <tr>\n",
       "      <th>2</th>\n",
       "      <td>0</td>\n",
       "      <td>11</td>\n",
       "      <td>12.0</td>\n",
       "      <td>NaN</td>\n",
       "    </tr>\n",
       "  </tbody>\n",
       "</table>\n",
       "</div>"
      ],
      "text/plain": [
       "   a   b     c    d\n",
       "0  1   2   3.0  4.0\n",
       "1  5   6   NaN  8.0\n",
       "2  0  11  12.0  NaN"
      ]
     },
     "execution_count": 22,
     "metadata": {},
     "output_type": "execute_result"
    }
   ],
   "source": [
    "df"
   ]
  },
  {
   "cell_type": "code",
   "execution_count": 23,
   "metadata": {},
   "outputs": [
    {
     "data": {
      "text/plain": [
       "a     0\n",
       " b    0\n",
       " c    1\n",
       " d    1\n",
       "dtype: int64"
      ]
     },
     "execution_count": 23,
     "metadata": {},
     "output_type": "execute_result"
    }
   ],
   "source": [
    "df.isnull().sum()   ### 각 열에 대한 결측값 확인하기"
   ]
  },
  {
   "cell_type": "code",
   "execution_count": 24,
   "metadata": {},
   "outputs": [
    {
     "data": {
      "text/plain": [
       "0    0\n",
       "1    1\n",
       "2    1\n",
       "dtype: int64"
      ]
     },
     "execution_count": 24,
     "metadata": {},
     "output_type": "execute_result"
    }
   ],
   "source": [
    "df.isnull().sum(axis = 1) ### 각 행에 대한 결측값 확인하기"
   ]
  },
  {
   "cell_type": "code",
   "execution_count": 27,
   "metadata": {},
   "outputs": [
    {
     "data": {
      "text/plain": [
       "array([[  1.,   2.,   3.,   4.],\n",
       "       [  5.,   6.,  nan,   8.],\n",
       "       [  0.,  11.,  12.,  nan]])"
      ]
     },
     "execution_count": 27,
     "metadata": {},
     "output_type": "execute_result"
    }
   ],
   "source": [
    "df.values    ### 사이킷 런은 numpy 형식으로 작업하도록 개발되었기 때문에 df.values를 이용하여 numpy 형식으로 반환받을 수 있다."
   ]
  },
  {
   "cell_type": "code",
   "execution_count": 28,
   "metadata": {},
   "outputs": [
    {
     "data": {
      "text/html": [
       "<div>\n",
       "<style>\n",
       "    .dataframe thead tr:only-child th {\n",
       "        text-align: right;\n",
       "    }\n",
       "\n",
       "    .dataframe thead th {\n",
       "        text-align: left;\n",
       "    }\n",
       "\n",
       "    .dataframe tbody tr th {\n",
       "        vertical-align: top;\n",
       "    }\n",
       "</style>\n",
       "<table border=\"1\" class=\"dataframe\">\n",
       "  <thead>\n",
       "    <tr style=\"text-align: right;\">\n",
       "      <th></th>\n",
       "      <th>a</th>\n",
       "      <th>b</th>\n",
       "      <th>c</th>\n",
       "      <th>d</th>\n",
       "    </tr>\n",
       "  </thead>\n",
       "  <tbody>\n",
       "    <tr>\n",
       "      <th>0</th>\n",
       "      <td>1</td>\n",
       "      <td>2</td>\n",
       "      <td>3.0</td>\n",
       "      <td>4.0</td>\n",
       "    </tr>\n",
       "  </tbody>\n",
       "</table>\n",
       "</div>"
      ],
      "text/plain": [
       "   a   b    c    d\n",
       "0  1   2  3.0  4.0"
      ]
     },
     "execution_count": 28,
     "metadata": {},
     "output_type": "execute_result"
    }
   ],
   "source": [
    "df.dropna() ### dropna 메서드를 이용하여 결측치가 있는 행(axis = 0) 또는 열(axis = 1)을 제거할 수 있다."
   ]
  },
  {
   "cell_type": "code",
   "execution_count": 29,
   "metadata": {},
   "outputs": [
    {
     "data": {
      "text/html": [
       "<div>\n",
       "<style>\n",
       "    .dataframe thead tr:only-child th {\n",
       "        text-align: right;\n",
       "    }\n",
       "\n",
       "    .dataframe thead th {\n",
       "        text-align: left;\n",
       "    }\n",
       "\n",
       "    .dataframe tbody tr th {\n",
       "        vertical-align: top;\n",
       "    }\n",
       "</style>\n",
       "<table border=\"1\" class=\"dataframe\">\n",
       "  <thead>\n",
       "    <tr style=\"text-align: right;\">\n",
       "      <th></th>\n",
       "      <th>a</th>\n",
       "      <th>b</th>\n",
       "      <th>c</th>\n",
       "      <th>d</th>\n",
       "    </tr>\n",
       "  </thead>\n",
       "  <tbody>\n",
       "    <tr>\n",
       "      <th>0</th>\n",
       "      <td>1</td>\n",
       "      <td>2</td>\n",
       "      <td>3.0</td>\n",
       "      <td>4.0</td>\n",
       "    </tr>\n",
       "    <tr>\n",
       "      <th>1</th>\n",
       "      <td>5</td>\n",
       "      <td>6</td>\n",
       "      <td>NaN</td>\n",
       "      <td>8.0</td>\n",
       "    </tr>\n",
       "    <tr>\n",
       "      <th>2</th>\n",
       "      <td>0</td>\n",
       "      <td>11</td>\n",
       "      <td>12.0</td>\n",
       "      <td>NaN</td>\n",
       "    </tr>\n",
       "  </tbody>\n",
       "</table>\n",
       "</div>"
      ],
      "text/plain": [
       "   a   b     c    d\n",
       "0  1   2   3.0  4.0\n",
       "1  5   6   NaN  8.0\n",
       "2  0  11  12.0  NaN"
      ]
     },
     "execution_count": 29,
     "metadata": {},
     "output_type": "execute_result"
    }
   ],
   "source": [
    "df.dropna(how = 'all')   ### 모든 열이 결측치인 행 제거"
   ]
  },
  {
   "cell_type": "code",
   "execution_count": 30,
   "metadata": {},
   "outputs": [
    {
     "data": {
      "text/html": [
       "<div>\n",
       "<style>\n",
       "    .dataframe thead tr:only-child th {\n",
       "        text-align: right;\n",
       "    }\n",
       "\n",
       "    .dataframe thead th {\n",
       "        text-align: left;\n",
       "    }\n",
       "\n",
       "    .dataframe tbody tr th {\n",
       "        vertical-align: top;\n",
       "    }\n",
       "</style>\n",
       "<table border=\"1\" class=\"dataframe\">\n",
       "  <thead>\n",
       "    <tr style=\"text-align: right;\">\n",
       "      <th></th>\n",
       "      <th>a</th>\n",
       "      <th>b</th>\n",
       "      <th>c</th>\n",
       "      <th>d</th>\n",
       "    </tr>\n",
       "  </thead>\n",
       "  <tbody>\n",
       "    <tr>\n",
       "      <th>0</th>\n",
       "      <td>1</td>\n",
       "      <td>2</td>\n",
       "      <td>3.0</td>\n",
       "      <td>4.0</td>\n",
       "    </tr>\n",
       "  </tbody>\n",
       "</table>\n",
       "</div>"
      ],
      "text/plain": [
       "   a   b    c    d\n",
       "0  1   2  3.0  4.0"
      ]
     },
     "execution_count": 30,
     "metadata": {},
     "output_type": "execute_result"
    }
   ],
   "source": [
    "df.dropna(thresh = 4)  # 결측치가 아닌 값이 4개보다 적은 행 제거"
   ]
  },
  {
   "cell_type": "code",
   "execution_count": 37,
   "metadata": {},
   "outputs": [
    {
     "ename": "KeyError",
     "evalue": "['d']",
     "output_type": "error",
     "traceback": [
      "\u001b[1;31m---------------------------------------------------------------------------\u001b[0m",
      "\u001b[1;31mKeyError\u001b[0m                                  Traceback (most recent call last)",
      "\u001b[1;32m<ipython-input-37-0dea51aa0316>\u001b[0m in \u001b[0;36m<module>\u001b[1;34m()\u001b[0m\n\u001b[1;32m----> 1\u001b[1;33m \u001b[0mdf\u001b[0m\u001b[1;33m.\u001b[0m\u001b[0mdropna\u001b[0m\u001b[1;33m(\u001b[0m\u001b[0msubset\u001b[0m \u001b[1;33m=\u001b[0m \u001b[1;33m[\u001b[0m\u001b[1;34m'd'\u001b[0m\u001b[1;33m]\u001b[0m\u001b[1;33m)\u001b[0m   \u001b[1;31m### 'C' 열에 결측치가 있는 경우에만 해당 행 제거\u001b[0m\u001b[1;33m\u001b[0m\u001b[0m\n\u001b[0m",
      "\u001b[1;32m~\\Anaconda3\\envs\\TensorFlow\\lib\\site-packages\\pandas\\core\\frame.py\u001b[0m in \u001b[0;36mdropna\u001b[1;34m(self, axis, how, thresh, subset, inplace)\u001b[0m\n\u001b[0;32m   3050\u001b[0m                 \u001b[0mcheck\u001b[0m \u001b[1;33m=\u001b[0m \u001b[0mindices\u001b[0m \u001b[1;33m==\u001b[0m \u001b[1;33m-\u001b[0m\u001b[1;36m1\u001b[0m\u001b[1;33m\u001b[0m\u001b[0m\n\u001b[0;32m   3051\u001b[0m                 \u001b[1;32mif\u001b[0m \u001b[0mcheck\u001b[0m\u001b[1;33m.\u001b[0m\u001b[0many\u001b[0m\u001b[1;33m(\u001b[0m\u001b[1;33m)\u001b[0m\u001b[1;33m:\u001b[0m\u001b[1;33m\u001b[0m\u001b[0m\n\u001b[1;32m-> 3052\u001b[1;33m                     \u001b[1;32mraise\u001b[0m \u001b[0mKeyError\u001b[0m\u001b[1;33m(\u001b[0m\u001b[0mlist\u001b[0m\u001b[1;33m(\u001b[0m\u001b[0mnp\u001b[0m\u001b[1;33m.\u001b[0m\u001b[0mcompress\u001b[0m\u001b[1;33m(\u001b[0m\u001b[0mcheck\u001b[0m\u001b[1;33m,\u001b[0m \u001b[0msubset\u001b[0m\u001b[1;33m)\u001b[0m\u001b[1;33m)\u001b[0m\u001b[1;33m)\u001b[0m\u001b[1;33m\u001b[0m\u001b[0m\n\u001b[0m\u001b[0;32m   3053\u001b[0m                 \u001b[0magg_obj\u001b[0m \u001b[1;33m=\u001b[0m \u001b[0mself\u001b[0m\u001b[1;33m.\u001b[0m\u001b[0mtake\u001b[0m\u001b[1;33m(\u001b[0m\u001b[0mindices\u001b[0m\u001b[1;33m,\u001b[0m \u001b[0maxis\u001b[0m\u001b[1;33m=\u001b[0m\u001b[0magg_axis\u001b[0m\u001b[1;33m)\u001b[0m\u001b[1;33m\u001b[0m\u001b[0m\n\u001b[0;32m   3054\u001b[0m \u001b[1;33m\u001b[0m\u001b[0m\n",
      "\u001b[1;31mKeyError\u001b[0m: ['d']"
     ]
    }
   ],
   "source": [
    "df.dropna(subset = ['d'])   ### 'C' 열에 결측치가 있는 경우에만 해당 행 제거"
   ]
  },
  {
   "cell_type": "code",
   "execution_count": 39,
   "metadata": {
    "collapsed": true
   },
   "outputs": [],
   "source": [
    "########## 결측치 보정하기(Impute) ##########"
   ]
  },
  {
   "cell_type": "code",
   "execution_count": 40,
   "metadata": {
    "collapsed": true
   },
   "outputs": [],
   "source": [
    "from sklearn.preprocessing import Imputer"
   ]
  },
  {
   "cell_type": "code",
   "execution_count": 42,
   "metadata": {
    "collapsed": true
   },
   "outputs": [],
   "source": [
    "imr = Imputer(missing_values = 'NaN',   ### 결측치는 'NaN'으로 코딩되어 있음\n",
    "             strategy = 'mean',    #### 결측치를 평균으로 대처(median, most_frequent 등도 사용 가능)\n",
    "             axis = 0)         #### 기준은 해당 열(axis = 1일 경우 행)"
   ]
  },
  {
   "cell_type": "code",
   "execution_count": 50,
   "metadata": {},
   "outputs": [
    {
     "data": {
      "text/plain": [
       "array([[  1. ,   2. ,   3. ,   4. ],\n",
       "       [  5. ,   6. ,   7.5,   8. ],\n",
       "       [ 10. ,  11. ,  12. ,   6. ]])"
      ]
     },
     "execution_count": 50,
     "metadata": {},
     "output_type": "execute_result"
    }
   ],
   "source": [
    "imr = imr.fit(df)\n",
    "imputed_data = imr.transform(df.values)\n",
    "imputed_data"
   ]
  },
  {
   "cell_type": "code",
   "execution_count": 46,
   "metadata": {},
   "outputs": [
    {
     "data": {
      "text/html": [
       "<div>\n",
       "<style>\n",
       "    .dataframe thead tr:only-child th {\n",
       "        text-align: right;\n",
       "    }\n",
       "\n",
       "    .dataframe thead th {\n",
       "        text-align: left;\n",
       "    }\n",
       "\n",
       "    .dataframe tbody tr th {\n",
       "        vertical-align: top;\n",
       "    }\n",
       "</style>\n",
       "<table border=\"1\" class=\"dataframe\">\n",
       "  <thead>\n",
       "    <tr style=\"text-align: right;\">\n",
       "      <th></th>\n",
       "      <th>a</th>\n",
       "      <th>b</th>\n",
       "      <th>c</th>\n",
       "      <th>d</th>\n",
       "    </tr>\n",
       "  </thead>\n",
       "  <tbody>\n",
       "    <tr>\n",
       "      <th>0</th>\n",
       "      <td>1</td>\n",
       "      <td>2</td>\n",
       "      <td>3.0</td>\n",
       "      <td>4.0</td>\n",
       "    </tr>\n",
       "    <tr>\n",
       "      <th>1</th>\n",
       "      <td>5</td>\n",
       "      <td>6</td>\n",
       "      <td>NaN</td>\n",
       "      <td>8.0</td>\n",
       "    </tr>\n",
       "    <tr>\n",
       "      <th>2</th>\n",
       "      <td>0</td>\n",
       "      <td>11</td>\n",
       "      <td>12.0</td>\n",
       "      <td>NaN</td>\n",
       "    </tr>\n",
       "  </tbody>\n",
       "</table>\n",
       "</div>"
      ],
      "text/plain": [
       "   a   b     c    d\n",
       "0  1   2   3.0  4.0\n",
       "1  5   6   NaN  8.0\n",
       "2  0  11  12.0  NaN"
      ]
     },
     "execution_count": 46,
     "metadata": {},
     "output_type": "execute_result"
    }
   ],
   "source": [
    "df"
   ]
  },
  {
   "cell_type": "code",
   "execution_count": 51,
   "metadata": {
    "collapsed": true
   },
   "outputs": [],
   "source": [
    "########## 범주형 데이터 다루기 ##########"
   ]
  },
  {
   "cell_type": "code",
   "execution_count": 52,
   "metadata": {},
   "outputs": [
    {
     "data": {
      "text/html": [
       "<div>\n",
       "<style>\n",
       "    .dataframe thead tr:only-child th {\n",
       "        text-align: right;\n",
       "    }\n",
       "\n",
       "    .dataframe thead th {\n",
       "        text-align: left;\n",
       "    }\n",
       "\n",
       "    .dataframe tbody tr th {\n",
       "        vertical-align: top;\n",
       "    }\n",
       "</style>\n",
       "<table border=\"1\" class=\"dataframe\">\n",
       "  <thead>\n",
       "    <tr style=\"text-align: right;\">\n",
       "      <th></th>\n",
       "      <th>color</th>\n",
       "      <th>size</th>\n",
       "      <th>price</th>\n",
       "      <th>classlabel</th>\n",
       "    </tr>\n",
       "  </thead>\n",
       "  <tbody>\n",
       "    <tr>\n",
       "      <th>0</th>\n",
       "      <td>green</td>\n",
       "      <td>M</td>\n",
       "      <td>10.1</td>\n",
       "      <td>class1</td>\n",
       "    </tr>\n",
       "    <tr>\n",
       "      <th>1</th>\n",
       "      <td>red</td>\n",
       "      <td>L</td>\n",
       "      <td>13.5</td>\n",
       "      <td>calss2</td>\n",
       "    </tr>\n",
       "    <tr>\n",
       "      <th>2</th>\n",
       "      <td>blue</td>\n",
       "      <td>XL</td>\n",
       "      <td>15.3</td>\n",
       "      <td>class1</td>\n",
       "    </tr>\n",
       "  </tbody>\n",
       "</table>\n",
       "</div>"
      ],
      "text/plain": [
       "   color size  price classlabel\n",
       "0  green    M   10.1     class1\n",
       "1    red    L   13.5     calss2\n",
       "2   blue   XL   15.3     class1"
      ]
     },
     "execution_count": 52,
     "metadata": {},
     "output_type": "execute_result"
    }
   ],
   "source": [
    "df = pd.DataFrame([['green', 'M', 10.1, 'class1'],\n",
    "                   ['red', 'L', 13.5, 'calss2'],\n",
    "                   ['blue', 'XL', 15.3, 'class1']])\n",
    "df.columns = ['color', 'size', 'price', 'classlabel']\n",
    "df"
   ]
  },
  {
   "cell_type": "code",
   "execution_count": 53,
   "metadata": {},
   "outputs": [
    {
     "data": {
      "text/html": [
       "<div>\n",
       "<style>\n",
       "    .dataframe thead tr:only-child th {\n",
       "        text-align: right;\n",
       "    }\n",
       "\n",
       "    .dataframe thead th {\n",
       "        text-align: left;\n",
       "    }\n",
       "\n",
       "    .dataframe tbody tr th {\n",
       "        vertical-align: top;\n",
       "    }\n",
       "</style>\n",
       "<table border=\"1\" class=\"dataframe\">\n",
       "  <thead>\n",
       "    <tr style=\"text-align: right;\">\n",
       "      <th></th>\n",
       "      <th>color</th>\n",
       "      <th>size</th>\n",
       "      <th>price</th>\n",
       "      <th>classlabel</th>\n",
       "    </tr>\n",
       "  </thead>\n",
       "  <tbody>\n",
       "    <tr>\n",
       "      <th>0</th>\n",
       "      <td>green</td>\n",
       "      <td>1</td>\n",
       "      <td>10.1</td>\n",
       "      <td>class1</td>\n",
       "    </tr>\n",
       "    <tr>\n",
       "      <th>1</th>\n",
       "      <td>red</td>\n",
       "      <td>2</td>\n",
       "      <td>13.5</td>\n",
       "      <td>calss2</td>\n",
       "    </tr>\n",
       "    <tr>\n",
       "      <th>2</th>\n",
       "      <td>blue</td>\n",
       "      <td>3</td>\n",
       "      <td>15.3</td>\n",
       "      <td>class1</td>\n",
       "    </tr>\n",
       "  </tbody>\n",
       "</table>\n",
       "</div>"
      ],
      "text/plain": [
       "   color  size  price classlabel\n",
       "0  green     1   10.1     class1\n",
       "1    red     2   13.5     calss2\n",
       "2   blue     3   15.3     class1"
      ]
     },
     "execution_count": 53,
     "metadata": {},
     "output_type": "execute_result"
    }
   ],
   "source": [
    "size_mapping = {    ### 순서형 변수(size) 매핑하기\n",
    "    'XL' : 3,\n",
    "    'L' : 2,\n",
    "    'M' : 1\n",
    "}\n",
    "df['size'] = df['size'].map(size_mapping)\n",
    "df"
   ]
  },
  {
   "cell_type": "code",
   "execution_count": 60,
   "metadata": {
    "collapsed": true
   },
   "outputs": [],
   "source": [
    "######## 분류 레이블 인코딩 ######## (class 변수)"
   ]
  },
  {
   "cell_type": "code",
   "execution_count": 61,
   "metadata": {},
   "outputs": [
    {
     "data": {
      "text/plain": [
       "{'calss2': 0, 'class1': 1}"
      ]
     },
     "execution_count": 61,
     "metadata": {},
     "output_type": "execute_result"
    }
   ],
   "source": [
    "class_mapping = {label:idx for idx, label in\n",
    "                enumerate(np.unique(df['classlabel']))}\n",
    "class_mapping"
   ]
  },
  {
   "cell_type": "code",
   "execution_count": 62,
   "metadata": {
    "collapsed": true
   },
   "outputs": [],
   "source": [
    "df['classlabel'] = df['classlabel'].map(class_mapping)     ### 매핑 dict를 이용하여 분류 레이블 정수로 변환"
   ]
  },
  {
   "cell_type": "code",
   "execution_count": 63,
   "metadata": {},
   "outputs": [
    {
     "data": {
      "text/html": [
       "<div>\n",
       "<style>\n",
       "    .dataframe thead tr:only-child th {\n",
       "        text-align: right;\n",
       "    }\n",
       "\n",
       "    .dataframe thead th {\n",
       "        text-align: left;\n",
       "    }\n",
       "\n",
       "    .dataframe tbody tr th {\n",
       "        vertical-align: top;\n",
       "    }\n",
       "</style>\n",
       "<table border=\"1\" class=\"dataframe\">\n",
       "  <thead>\n",
       "    <tr style=\"text-align: right;\">\n",
       "      <th></th>\n",
       "      <th>color</th>\n",
       "      <th>size</th>\n",
       "      <th>price</th>\n",
       "      <th>classlabel</th>\n",
       "    </tr>\n",
       "  </thead>\n",
       "  <tbody>\n",
       "    <tr>\n",
       "      <th>0</th>\n",
       "      <td>green</td>\n",
       "      <td>1</td>\n",
       "      <td>10.1</td>\n",
       "      <td>1</td>\n",
       "    </tr>\n",
       "    <tr>\n",
       "      <th>1</th>\n",
       "      <td>red</td>\n",
       "      <td>2</td>\n",
       "      <td>13.5</td>\n",
       "      <td>0</td>\n",
       "    </tr>\n",
       "    <tr>\n",
       "      <th>2</th>\n",
       "      <td>blue</td>\n",
       "      <td>3</td>\n",
       "      <td>15.3</td>\n",
       "      <td>1</td>\n",
       "    </tr>\n",
       "  </tbody>\n",
       "</table>\n",
       "</div>"
      ],
      "text/plain": [
       "   color  size  price  classlabel\n",
       "0  green     1   10.1           1\n",
       "1    red     2   13.5           0\n",
       "2   blue     3   15.3           1"
      ]
     },
     "execution_count": 63,
     "metadata": {},
     "output_type": "execute_result"
    }
   ],
   "source": [
    "df"
   ]
  },
  {
   "cell_type": "code",
   "execution_count": 64,
   "metadata": {
    "collapsed": true
   },
   "outputs": [],
   "source": [
    "inv_class_mapping = {v : k for k, v in class_mapping.items()}   ### 매핑 dict를 이용하여 분류 레이블을 string으로 변환\n",
    "df['classlabel'] = df['classlabel'].map(inv_class_mapping)"
   ]
  },
  {
   "cell_type": "code",
   "execution_count": 65,
   "metadata": {},
   "outputs": [
    {
     "data": {
      "text/html": [
       "<div>\n",
       "<style>\n",
       "    .dataframe thead tr:only-child th {\n",
       "        text-align: right;\n",
       "    }\n",
       "\n",
       "    .dataframe thead th {\n",
       "        text-align: left;\n",
       "    }\n",
       "\n",
       "    .dataframe tbody tr th {\n",
       "        vertical-align: top;\n",
       "    }\n",
       "</style>\n",
       "<table border=\"1\" class=\"dataframe\">\n",
       "  <thead>\n",
       "    <tr style=\"text-align: right;\">\n",
       "      <th></th>\n",
       "      <th>color</th>\n",
       "      <th>size</th>\n",
       "      <th>price</th>\n",
       "      <th>classlabel</th>\n",
       "    </tr>\n",
       "  </thead>\n",
       "  <tbody>\n",
       "    <tr>\n",
       "      <th>0</th>\n",
       "      <td>green</td>\n",
       "      <td>1</td>\n",
       "      <td>10.1</td>\n",
       "      <td>class1</td>\n",
       "    </tr>\n",
       "    <tr>\n",
       "      <th>1</th>\n",
       "      <td>red</td>\n",
       "      <td>2</td>\n",
       "      <td>13.5</td>\n",
       "      <td>calss2</td>\n",
       "    </tr>\n",
       "    <tr>\n",
       "      <th>2</th>\n",
       "      <td>blue</td>\n",
       "      <td>3</td>\n",
       "      <td>15.3</td>\n",
       "      <td>class1</td>\n",
       "    </tr>\n",
       "  </tbody>\n",
       "</table>\n",
       "</div>"
      ],
      "text/plain": [
       "   color  size  price classlabel\n",
       "0  green     1   10.1     class1\n",
       "1    red     2   13.5     calss2\n",
       "2   blue     3   15.3     class1"
      ]
     },
     "execution_count": 65,
     "metadata": {},
     "output_type": "execute_result"
    }
   ],
   "source": [
    "df"
   ]
  },
  {
   "cell_type": "code",
   "execution_count": 78,
   "metadata": {},
   "outputs": [
    {
     "data": {
      "text/plain": [
       "array([1, 0, 1], dtype=int64)"
      ]
     },
     "execution_count": 78,
     "metadata": {},
     "output_type": "execute_result"
    }
   ],
   "source": [
    "from sklearn.preprocessing import LabelEncoder\n",
    "class_le = LabelEncoder()\n",
    "y = class_le.fit_transform(df['classlabel'].values)\n",
    "y"
   ]
  },
  {
   "cell_type": "code",
   "execution_count": 66,
   "metadata": {
    "collapsed": true
   },
   "outputs": [],
   "source": [
    "############# 명목형 척도에 one-hot-encoding 하기 #############"
   ]
  },
  {
   "cell_type": "code",
   "execution_count": 79,
   "metadata": {
    "collapsed": true
   },
   "outputs": [],
   "source": [
    "x = df[['color', 'size', 'price']].values\n",
    "color_le = LabelEncoder()"
   ]
  },
  {
   "cell_type": "code",
   "execution_count": 68,
   "metadata": {},
   "outputs": [
    {
     "data": {
      "text/plain": [
       "array([['green', 1, 10.1],\n",
       "       ['red', 2, 13.5],\n",
       "       ['blue', 3, 15.3]], dtype=object)"
      ]
     },
     "execution_count": 68,
     "metadata": {},
     "output_type": "execute_result"
    }
   ],
   "source": [
    "x"
   ]
  },
  {
   "cell_type": "code",
   "execution_count": 82,
   "metadata": {
    "collapsed": true
   },
   "outputs": [],
   "source": [
    "x[:, 0] = color_le.fit_transform(x[:, 0])   ### 이 상태에서 코딩을 진행하면 green이 blue보다 크고, red가 green보다 크다고 인식함."
   ]
  },
  {
   "cell_type": "code",
   "execution_count": 83,
   "metadata": {},
   "outputs": [
    {
     "data": {
      "text/plain": [
       "array([[1, 1, 10.1],\n",
       "       [2, 2, 13.5],\n",
       "       [0, 3, 15.3]], dtype=object)"
      ]
     },
     "execution_count": 83,
     "metadata": {},
     "output_type": "execute_result"
    }
   ],
   "source": [
    "x"
   ]
  },
  {
   "cell_type": "code",
   "execution_count": 84,
   "metadata": {},
   "outputs": [
    {
     "data": {
      "text/plain": [
       "array([[  0. ,   1. ,   0. ,   1. ,  10.1],\n",
       "       [  0. ,   0. ,   1. ,   2. ,  13.5],\n",
       "       [  1. ,   0. ,   0. ,   3. ,  15.3]])"
      ]
     },
     "execution_count": 84,
     "metadata": {},
     "output_type": "execute_result"
    }
   ],
   "source": [
    "from sklearn.preprocessing import OneHotEncoder\n",
    "ohe = OneHotEncoder(categorical_features = [0])   ##### categoriacal_features 옵션을 통해 더미와하려는 변수의 열 위치를 입력\n",
    "ohe.fit_transform(x).toarray()"
   ]
  },
  {
   "cell_type": "code",
   "execution_count": 87,
   "metadata": {},
   "outputs": [
    {
     "data": {
      "text/html": [
       "<div>\n",
       "<style>\n",
       "    .dataframe thead tr:only-child th {\n",
       "        text-align: right;\n",
       "    }\n",
       "\n",
       "    .dataframe thead th {\n",
       "        text-align: left;\n",
       "    }\n",
       "\n",
       "    .dataframe tbody tr th {\n",
       "        vertical-align: top;\n",
       "    }\n",
       "</style>\n",
       "<table border=\"1\" class=\"dataframe\">\n",
       "  <thead>\n",
       "    <tr style=\"text-align: right;\">\n",
       "      <th></th>\n",
       "      <th>price</th>\n",
       "      <th>size</th>\n",
       "      <th>color_blue</th>\n",
       "      <th>color_green</th>\n",
       "      <th>color_red</th>\n",
       "    </tr>\n",
       "  </thead>\n",
       "  <tbody>\n",
       "    <tr>\n",
       "      <th>0</th>\n",
       "      <td>10.1</td>\n",
       "      <td>1</td>\n",
       "      <td>0</td>\n",
       "      <td>1</td>\n",
       "      <td>0</td>\n",
       "    </tr>\n",
       "    <tr>\n",
       "      <th>1</th>\n",
       "      <td>13.5</td>\n",
       "      <td>2</td>\n",
       "      <td>0</td>\n",
       "      <td>0</td>\n",
       "      <td>1</td>\n",
       "    </tr>\n",
       "    <tr>\n",
       "      <th>2</th>\n",
       "      <td>15.3</td>\n",
       "      <td>3</td>\n",
       "      <td>1</td>\n",
       "      <td>0</td>\n",
       "      <td>0</td>\n",
       "    </tr>\n",
       "  </tbody>\n",
       "</table>\n",
       "</div>"
      ],
      "text/plain": [
       "   price  size  color_blue  color_green  color_red\n",
       "0   10.1     1           0            1          0\n",
       "1   13.5     2           0            0          1\n",
       "2   15.3     3           1            0          0"
      ]
     },
     "execution_count": 87,
     "metadata": {},
     "output_type": "execute_result"
    }
   ],
   "source": [
    "pd.get_dummies(df[['price', 'color', 'size']])    ### 혹은 pandas의 get_dummies를 이용하여 간단하게 변환할 수도 있다."
   ]
  },
  {
   "cell_type": "code",
   "execution_count": 88,
   "metadata": {
    "collapsed": true
   },
   "outputs": [],
   "source": [
    "############ 데이터를 훈련용과 테스트용으로 분할하기 ############"
   ]
  },
  {
   "cell_type": "code",
   "execution_count": 7,
   "metadata": {},
   "outputs": [
    {
     "name": "stdout",
     "output_type": "stream",
     "text": [
      "Class labels [1 2 3]\n"
     ]
    }
   ],
   "source": [
    "df_wine = pd.read_csv('https://archive.ics.uci.edu/ml/machine-learning-databases/wine/wine.data', header = None)\n",
    "df_wine.columns = ['Class label', 'Alcohol',\n",
    "                  'Malice acid', 'Ash',\n",
    "                  'Alcalinity of ash', 'Magnesium',\n",
    "                  'Total phenols', 'Flavanoids',\n",
    "                  'Nonflavanoid phenols', 'Proanthocyanins',\n",
    "                  'Colro intensity', 'Hue',\n",
    "                  'OD280/OD315 of diluted wines',\n",
    "                  'Proline']\n",
    "print('Class labels', np.unique(df_wine['Class label']))"
   ]
  },
  {
   "cell_type": "code",
   "execution_count": 8,
   "metadata": {},
   "outputs": [
    {
     "data": {
      "text/html": [
       "<div>\n",
       "<style>\n",
       "    .dataframe thead tr:only-child th {\n",
       "        text-align: right;\n",
       "    }\n",
       "\n",
       "    .dataframe thead th {\n",
       "        text-align: left;\n",
       "    }\n",
       "\n",
       "    .dataframe tbody tr th {\n",
       "        vertical-align: top;\n",
       "    }\n",
       "</style>\n",
       "<table border=\"1\" class=\"dataframe\">\n",
       "  <thead>\n",
       "    <tr style=\"text-align: right;\">\n",
       "      <th></th>\n",
       "      <th>Class label</th>\n",
       "      <th>Alcohol</th>\n",
       "      <th>Malice acid</th>\n",
       "      <th>Ash</th>\n",
       "      <th>Alcalinity of ash</th>\n",
       "      <th>Magnesium</th>\n",
       "      <th>Total phenols</th>\n",
       "      <th>Flavanoids</th>\n",
       "      <th>Nonflavanoid phenols</th>\n",
       "      <th>Proanthocyanins</th>\n",
       "      <th>Colro intensity</th>\n",
       "      <th>Hue</th>\n",
       "      <th>OD280/OD315 of diluted wines</th>\n",
       "      <th>Proline</th>\n",
       "    </tr>\n",
       "  </thead>\n",
       "  <tbody>\n",
       "    <tr>\n",
       "      <th>0</th>\n",
       "      <td>1</td>\n",
       "      <td>14.23</td>\n",
       "      <td>1.71</td>\n",
       "      <td>2.43</td>\n",
       "      <td>15.6</td>\n",
       "      <td>127</td>\n",
       "      <td>2.80</td>\n",
       "      <td>3.06</td>\n",
       "      <td>0.28</td>\n",
       "      <td>2.29</td>\n",
       "      <td>5.64</td>\n",
       "      <td>1.04</td>\n",
       "      <td>3.92</td>\n",
       "      <td>1065</td>\n",
       "    </tr>\n",
       "    <tr>\n",
       "      <th>1</th>\n",
       "      <td>1</td>\n",
       "      <td>13.20</td>\n",
       "      <td>1.78</td>\n",
       "      <td>2.14</td>\n",
       "      <td>11.2</td>\n",
       "      <td>100</td>\n",
       "      <td>2.65</td>\n",
       "      <td>2.76</td>\n",
       "      <td>0.26</td>\n",
       "      <td>1.28</td>\n",
       "      <td>4.38</td>\n",
       "      <td>1.05</td>\n",
       "      <td>3.40</td>\n",
       "      <td>1050</td>\n",
       "    </tr>\n",
       "    <tr>\n",
       "      <th>2</th>\n",
       "      <td>1</td>\n",
       "      <td>13.16</td>\n",
       "      <td>2.36</td>\n",
       "      <td>2.67</td>\n",
       "      <td>18.6</td>\n",
       "      <td>101</td>\n",
       "      <td>2.80</td>\n",
       "      <td>3.24</td>\n",
       "      <td>0.30</td>\n",
       "      <td>2.81</td>\n",
       "      <td>5.68</td>\n",
       "      <td>1.03</td>\n",
       "      <td>3.17</td>\n",
       "      <td>1185</td>\n",
       "    </tr>\n",
       "    <tr>\n",
       "      <th>3</th>\n",
       "      <td>1</td>\n",
       "      <td>14.37</td>\n",
       "      <td>1.95</td>\n",
       "      <td>2.50</td>\n",
       "      <td>16.8</td>\n",
       "      <td>113</td>\n",
       "      <td>3.85</td>\n",
       "      <td>3.49</td>\n",
       "      <td>0.24</td>\n",
       "      <td>2.18</td>\n",
       "      <td>7.80</td>\n",
       "      <td>0.86</td>\n",
       "      <td>3.45</td>\n",
       "      <td>1480</td>\n",
       "    </tr>\n",
       "    <tr>\n",
       "      <th>4</th>\n",
       "      <td>1</td>\n",
       "      <td>13.24</td>\n",
       "      <td>2.59</td>\n",
       "      <td>2.87</td>\n",
       "      <td>21.0</td>\n",
       "      <td>118</td>\n",
       "      <td>2.80</td>\n",
       "      <td>2.69</td>\n",
       "      <td>0.39</td>\n",
       "      <td>1.82</td>\n",
       "      <td>4.32</td>\n",
       "      <td>1.04</td>\n",
       "      <td>2.93</td>\n",
       "      <td>735</td>\n",
       "    </tr>\n",
       "  </tbody>\n",
       "</table>\n",
       "</div>"
      ],
      "text/plain": [
       "   Class label  Alcohol  Malice acid   Ash  Alcalinity of ash  Magnesium  \\\n",
       "0            1    14.23         1.71  2.43               15.6        127   \n",
       "1            1    13.20         1.78  2.14               11.2        100   \n",
       "2            1    13.16         2.36  2.67               18.6        101   \n",
       "3            1    14.37         1.95  2.50               16.8        113   \n",
       "4            1    13.24         2.59  2.87               21.0        118   \n",
       "\n",
       "   Total phenols  Flavanoids  Nonflavanoid phenols  Proanthocyanins  \\\n",
       "0           2.80        3.06                  0.28             2.29   \n",
       "1           2.65        2.76                  0.26             1.28   \n",
       "2           2.80        3.24                  0.30             2.81   \n",
       "3           3.85        3.49                  0.24             2.18   \n",
       "4           2.80        2.69                  0.39             1.82   \n",
       "\n",
       "   Colro intensity   Hue  OD280/OD315 of diluted wines  Proline  \n",
       "0             5.64  1.04                          3.92     1065  \n",
       "1             4.38  1.05                          3.40     1050  \n",
       "2             5.68  1.03                          3.17     1185  \n",
       "3             7.80  0.86                          3.45     1480  \n",
       "4             4.32  1.04                          2.93      735  "
      ]
     },
     "execution_count": 8,
     "metadata": {},
     "output_type": "execute_result"
    }
   ],
   "source": [
    "df_wine.head()"
   ]
  },
  {
   "cell_type": "code",
   "execution_count": 9,
   "metadata": {
    "collapsed": true
   },
   "outputs": [],
   "source": [
    "from sklearn.cross_validation import train_test_split\n",
    "x, y = df_wine.iloc[:, 1:].values, df_wine.iloc[:, 0].values    ### iloc 메소드는 정수형 위치형으로 데이터 찾기. lable로 찾는 것은 loc 메소드\n",
    "x_train, x_test, y_train, y_test = train_test_split(x, y, test_size = 0.3, random_state = 0)"
   ]
  },
  {
   "cell_type": "code",
   "execution_count": null,
   "metadata": {
    "collapsed": true
   },
   "outputs": [],
   "source": []
  },
  {
   "cell_type": "code",
   "execution_count": 95,
   "metadata": {
    "collapsed": true
   },
   "outputs": [],
   "source": [
    "################ 정규화 하기 ################"
   ]
  },
  {
   "cell_type": "code",
   "execution_count": 5,
   "metadata": {
    "collapsed": true
   },
   "outputs": [],
   "source": [
    "from sklearn.preprocessing import MinMaxScaler   ### minmax가 아닌 표준화는 StandardScaler를 사용한다."
   ]
  },
  {
   "cell_type": "code",
   "execution_count": 11,
   "metadata": {
    "collapsed": true
   },
   "outputs": [],
   "source": [
    "mms = MinMaxScaler()\n",
    "x_train_norm = mms.fit_transform(x_train)\n",
    "x_test_norm = mms.transform(x_test)"
   ]
  },
  {
   "cell_type": "code",
   "execution_count": 13,
   "metadata": {},
   "outputs": [
    {
     "name": "stdout",
     "output_type": "stream",
     "text": [
      "[[ 0.72043011  0.20378151  0.53763441 ...,  0.48717949  1.          0.5854251 ]\n",
      " [ 0.31989247  0.08403361  0.31182796 ...,  0.27350427  0.64102564  0.        ]\n",
      " [ 0.60215054  0.71218487  0.48387097 ...,  0.04273504  0.10622711\n",
      "   0.42348178]\n",
      " ..., \n",
      " [ 0.37365591  0.1512605   0.44623656 ...,  0.44444444  0.61904762\n",
      "   0.02672065]\n",
      " [ 0.77150538  0.16596639  0.40860215 ...,  0.31623932  0.75457875\n",
      "   0.54493927]\n",
      " [ 0.84139785  0.34033613  0.60215054 ...,  0.06837607  0.16117216\n",
      "   0.28178138]] [[ 0.72849462  0.16386555  0.47849462  0.29896907  0.52173913  0.53956835\n",
      "   0.74311927  0.13461538  0.37974684  0.4364852   0.32478632  0.70695971\n",
      "   0.60566802]\n",
      " [ 0.47311828  0.37394958  0.60215054  0.58762887  0.45652174  0.13669065\n",
      "   0.27217125  0.19230769  0.26582278  0.90926457 -0.05128205  0.07326007\n",
      "   0.13603239]\n",
      " [ 0.36021505  0.05042017  0.43010753  0.43298969  0.18478261  0.86330935\n",
      "   0.80428135  0.09615385  0.45886076  0.30276982  0.58119658  0.58608059\n",
      "   0.08744939]\n",
      " [ 0.68010753  0.17647059  0.59139785  0.51030928  0.5         0.66906475\n",
      "   0.70642202  0.11538462  0.64240506  0.47468959  0.37606838  0.64468864\n",
      "   0.65425101]\n",
      " [ 0.54301075  1.03151261  0.41397849  0.56185567  0.17391304  0.54676259\n",
      "   0.66666667  0.30769231  0.50316456  0.1260745   0.16239316  0.67032967\n",
      "   0.05506073]\n",
      " [ 0.14247312  0.24369748  1.00537634  0.92268041  0.5326087   0.74820144\n",
      "   1.40978593  0.63461538  0.45886076  0.45081184  0.33333333  0.88644689\n",
      "   0.12388664]\n",
      " [ 0.81451613  0.26470588  0.67204301  0.36082474  0.55434783  0.53956835\n",
      "   0.62385321  0.32692308  0.26265823  0.36007641  0.44444444  0.84615385\n",
      "   0.79595142]\n",
      " [ 0.35752688  0.61764706  0.5483871   0.53608247  0.19565217  0.43165468\n",
      "   0.13761468  0.69230769  0.19620253  0.60840497  0.01709402  0.11355311\n",
      "   0.16842105]\n",
      " [ 0.32795699  0.17647059  0.40860215  0.43298969  0.10869565  0.19784173\n",
      "   0.47706422  0.44230769  0.38291139  0.20248329  0.39316239  0.6959707\n",
      "   0.16032389]\n",
      " [ 0.28225806  0.19747899  0.51612903  0.40721649  0.11956522  0.17985612\n",
      "   0.31498471  0.73076923  0.38607595  0.1069723   0.46153846  0.36630037\n",
      "   0.13603239]\n",
      " [ 0.62634409  0.35084034  0.53225806  0.48453608  0.20652174  0.10791367\n",
      "   0.00917431  0.44230769  0.06962025  0.41260745  0.13675214  0.43956044\n",
      "   0.37894737]\n",
      " [ 0.76612903  0.87184874  0.46774194  0.48453608  0.10869565 -0.04316547\n",
      "  -0.03975535  0.5         0.08227848  0.34574976  0.03418803  0.02197802\n",
      "   0.08340081]\n",
      " [ 0.85215054  0.18277311  0.58602151  0.2371134   0.45652174  0.78057554\n",
      "   0.89296636  0.38461538  0.49050633  0.52244508  0.43589744  0.57875458\n",
      "   0.92145749]\n",
      " [ 0.36021505  0.03781513  0.39784946  0.40721649  0.19565217  0.8705036\n",
      "   1.0030581   0.19230769  0.48417722  0.30754537  0.42735043  0.54945055\n",
      "   0.28178138]\n",
      " [ 0.68548387  0.35504202  0.71505376  0.71649485  0.38043478  0.1618705\n",
      "   0.11314985  0.48076923  0.35443038  0.70487106  0.17094017  0.19413919\n",
      "   0.35465587]\n",
      " [ 0.26075269  0.00630252  0.34408602  0.43298969  0.17391304  0.47482014\n",
      "   0.54740061  0.30769231  0.31962025  0.1165234   0.71794872  0.67765568\n",
      "  -0.02753036]\n",
      " [ 0.73387097  0.13445378  0.72043011  0.45876289  0.67391304  0.66546763\n",
      "   0.6941896   0.69230769  0.2943038   0.39350525  0.60683761  0.63369963\n",
      "   0.74736842]\n",
      " [ 0.84946237  0.14705882  0.60215054  0.30412371  0.41304348  0.79136691\n",
      "   1.05810398  0.34615385  0.4556962   0.7086915   0.58974359  0.56776557\n",
      "   1.10769231]\n",
      " [ 0.4327957   0.0987395   0.35483871  0.31958763  0.32608696  0.33093525\n",
      "   0.28746177  0.75        0.06329114  0.4269341   0.37606838  0.11721612\n",
      "   0.11174089]\n",
      " [ 0.75268817  0.15966387  0.66666667  0.34020619  0.26086957  0.48561151\n",
      "   0.7706422   0.15384615  0.59177215  0.41260745  0.5982906   0.76923077\n",
      "   0.77165992]\n",
      " [ 0.55913978  0.02521008  0.1827957   0.22680412  0.08695652  0.67625899\n",
      "   0.82874618  0.23076923  0.58860759  0.38395415  0.4957265   0.6996337\n",
      "   0.15384615]\n",
      " [ 0.54301075  0.15966387  0.63978495  0.3814433   0.30434783  0.48561151\n",
      "   0.59938838  0.28846154  0.32278481  0.28366762  0.4957265   0.45421245\n",
      "   0.64210526]\n",
      " [ 0.59408602  0.35714286  0.81182796  0.53608247  0.52173913  0.61151079\n",
      "   0.67889908  0.48076923  0.44303797  0.29035339  0.42735043  0.60805861\n",
      "   0.34251012]\n",
      " [ 0.39784946  0.17647059  0.33333333  0.51030928  0.16304348  0.39568345\n",
      "   0.44342508  0.34615385  0.33544304  0.15854823  0.42735043  0.84249084\n",
      "   0.29149798]\n",
      " [ 0.34946237  0.04411765  0.49462366  0.27835052  0.33695652  0.34172662\n",
      "   0.18960245  0.94230769 -0.00316456  0.19006686  0.60683761  0.14652015\n",
      "   0.29797571]\n",
      " [ 0.40053763  0.32352941  0.43548387  0.53608247  0.19565217  0.52158273\n",
      "   0.55045872  0.23076923  0.25316456  0.06876791  0.30769231  0.55311355\n",
      "   0.01052632]\n",
      " [ 0.37634409  0.13445378  0.5         0.56185567  0.17391304  0.58992806\n",
      "   0.81957187  0.48076923  0.42721519  0.25405922  0.12820513  0.57509158\n",
      "   0.03238866]\n",
      " [ 0.30376344  0.1512605   0.51075269  0.62886598  0.2173913   0.24460432\n",
      "   0.37308869  0.55769231  0.36075949  0.11174785  0.67521368  0.36263736\n",
      "   0.14817814]\n",
      " [ 0.19623656  0.37605042  0.83870968  0.48453608  0.35869565  0.23381295\n",
      "   0.47706422  0.88461538  0.19936709  0.24068768  0.58974359  0.45054945\n",
      "   0.2388664 ]\n",
      " [ 0.73924731  0.39285714  0.50537634  0.58762887  0.2173913   0.08992806\n",
      "   0.06422018  0.51923077  0.19303797  0.79274117  0.13675214  0.15018315\n",
      "   0.24534413]\n",
      " [ 0.6344086   0.18487395  0.67741935  0.28350515  0.25        0.6294964\n",
      "   0.75535168  0.38461538  0.32594937  0.33619866  0.32478632  0.71428571\n",
      "   0.71497976]\n",
      " [ 0.85752688  0.17016807  0.50537634  0.29381443  0.52173913  0.75539568\n",
      "   0.77370031  0.23076923  0.50949367  0.48710602  0.34188034  0.74725275\n",
      "   0.53279352]\n",
      " [ 0.27150538  0.71638655  0.5483871   0.58762887  0.10869565  0.35971223\n",
      "   0.39143731  0.53846154  0.2943038   0.1260745   0.21367521  0.47619048\n",
      "   0.21700405]\n",
      " [ 0.85483871  0.66176471  0.58064516  0.42783505  0.44565217  0.6294964\n",
      "   0.66666667  0.30769231  0.26265823  0.3782235   0.28205128  0.75457875\n",
      "   0.62186235]\n",
      " [ 1.02150538  0.15756303  0.43548387  0.17525773  0.29347826  0.61151079\n",
      "   0.7675841   0.28846154  0.49367089  0.37440306  0.46153846  0.57875458\n",
      "   0.59352227]\n",
      " [ 0.54301075  0.18487395  0.39784946  0.32989691  0.40217391  0.68345324\n",
      "   0.77370031  0.26923077  0.50949367  0.3591213   0.29059829  0.76190476\n",
      "   0.46396761]\n",
      " [ 0.71505376  0.49789916  0.6344086   0.48453608  0.40217391  0.26258993\n",
      "   0.02752294  0.69230769  0.12025316  0.43935053  0.35897436  0.2014652\n",
      "   0.29797571]\n",
      " [ 0.44623656  0.13445378  0.48387097  0.52061856  0.10869565  0.10071942\n",
      "   0.30275229  0.84615385  0.37974684  0.16905444  0.35897436  0.28937729\n",
      "   0.14817814]\n",
      " [ 0.15860215  0.23109244  0.49462366  0.3814433   0.30434783  0.69064748\n",
      "   0.54740061  0.05769231  0.2943038   0.18815664  0.52991453  0.61904762\n",
      "   0.02672065]\n",
      " [ 0.63709677  0.63445378  0.60215054  0.63917526  0.34782609  0.25179856\n",
      "   0.08562691  0.55769231  0.31329114  0.57497612  0.13675214  0.10622711\n",
      "   0.35465587]\n",
      " [ 0.66397849  0.19327731  0.67204301  0.48453608  0.2826087   0.51438849\n",
      "   0.65443425  0.26923077  0.39240506  0.2139446   0.4957265   0.93406593\n",
      "   0.43157895]\n",
      " [ 0.72580645  0.12815126  0.72043011  0.61340206  0.33695652  0.68345324\n",
      "   0.85015291  0.28846154  0.62025316  0.42215855  0.55555556  0.52747253\n",
      "   0.78785425]\n",
      " [ 0.33870968  0.40756303  0.46236559  0.3814433   0.19565217  0.48561151\n",
      "   0.54434251  0.21153846  0.49683544  0.08309456  0.52136752  0.74358974\n",
      "  -0.01781377]\n",
      " [ 0.42204301  0.09453782  0.29032258  0.40721649  0.19565217  0.12589928\n",
      "   0.27217125  0.28846154  0.2943038   0.11174785  0.42735043  0.54945055\n",
      "   0.20242915]\n",
      " [ 0.10215054 -0.03151261  0.61290323  0.53608247  0.19565217  0.49640288\n",
      "   0.47094801  0.53846154  0.32278481  0.17191977  0.47863248  0.38095238\n",
      "   0.09878543]\n",
      " [ 0.7016129   0.46428571  0.64516129  0.2371134   0.5         0.57553957\n",
      "   0.78287462  0.05769231  0.39240506  0.36485196  0.35897436  0.76556777\n",
      "   0.43157895]\n",
      " [ 0.42204301  0.32983193  0.4516129   0.40721649  0.26086957  0.18705036\n",
      "   0.05810398  0.94230769  0.16455696  0.55587393  0.16239316  0.11355311\n",
      "   0.31012146]\n",
      " [ 0.25        0.04201681  0.50537634  0.53608247  0.33695652  0.82014388\n",
      "   0.51070336 -0.01923077  0.38924051  0.1843362   0.38461538  0.68131868\n",
      "   0.46477733]\n",
      " [ 0.32795699  0.62815126  0.4516129   0.40721649  0.45652174  0.10071942\n",
      "   0.09480122  0.28846154  0.2278481   0.66189112  0.09401709  0.26739927\n",
      "   0.43967611]\n",
      " [ 0.87903226  0.21638655  0.7311828   0.48453608  0.54347826  0.61151079\n",
      "   0.81651376  0.36538462  0.49050633  0.46991404  0.45299145  0.50549451\n",
      "   0.78380567]\n",
      " [ 0.49731183  0.44117647  0.55913978  0.48453608  0.36956522  0.07194245\n",
      "   0.2293578   0.19230769  0.12974684  0.39350525  0.17094017  0.05494505\n",
      "   0.17651822]\n",
      " [ 0.66129032  0.56722689  0.44623656  0.45876289  0.19565217  0.18705036\n",
      "   0.0030581   0.84615385  0.14556962  0.42215855  0.23076923  0.2014652\n",
      "   0.21700405]\n",
      " [ 0.68010753  0.17226891  0.51075269  0.28865979  0.51086957  0.73741007\n",
      "   0.86238532  0.38461538  0.60759494  0.46322827  0.35042735  0.77289377\n",
      "   0.39109312]\n",
      " [ 0.88978495  0.16596639  0.72043011  0.74226804  0.30434783  0.61151079\n",
      "   0.25688073  0.75        0.72151899  1.11938873  0.02564103  0.25274725\n",
      "   0.28178138]]\n"
     ]
    }
   ],
   "source": [
    "print(x_train_norm, x_test_norm)"
   ]
  },
  {
   "cell_type": "code",
   "execution_count": null,
   "metadata": {
    "collapsed": true
   },
   "outputs": [],
   "source": []
  }
 ],
 "metadata": {
  "kernelspec": {
   "display_name": "Python 3",
   "language": "python",
   "name": "python3"
  },
  "language_info": {
   "codemirror_mode": {
    "name": "ipython",
    "version": 3
   },
   "file_extension": ".py",
   "mimetype": "text/x-python",
   "name": "python",
   "nbconvert_exporter": "python",
   "pygments_lexer": "ipython3",
   "version": "3.6.2"
  }
 },
 "nbformat": 4,
 "nbformat_minor": 2
}
