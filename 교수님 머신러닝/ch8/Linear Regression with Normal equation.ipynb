{
 "cells": [
  {
   "cell_type": "code",
   "execution_count": 1,
   "metadata": {
    "collapsed": true
   },
   "outputs": [],
   "source": [
    "%matplotlib inline\n",
    "\n",
    "import numpy as np\n",
    "import pandas as pd\n",
    "import matplotlib.pyplot as plt"
   ]
  },
  {
   "cell_type": "code",
   "execution_count": 2,
   "metadata": {
    "collapsed": true
   },
   "outputs": [],
   "source": [
    "from sklearn.datasets import load_boston\n",
    "boston = load_boston()"
   ]
  },
  {
   "cell_type": "code",
   "execution_count": 3,
   "metadata": {},
   "outputs": [
    {
     "data": {
      "text/plain": [
       "dict_keys(['data', 'target', 'feature_names', 'DESCR'])"
      ]
     },
     "execution_count": 3,
     "metadata": {},
     "output_type": "execute_result"
    }
   ],
   "source": [
    "boston.keys()"
   ]
  },
  {
   "cell_type": "code",
   "execution_count": 4,
   "metadata": {},
   "outputs": [
    {
     "data": {
      "text/html": [
       "<div>\n",
       "<style>\n",
       "    .dataframe thead tr:only-child th {\n",
       "        text-align: right;\n",
       "    }\n",
       "\n",
       "    .dataframe thead th {\n",
       "        text-align: left;\n",
       "    }\n",
       "\n",
       "    .dataframe tbody tr th {\n",
       "        vertical-align: top;\n",
       "    }\n",
       "</style>\n",
       "<table border=\"1\" class=\"dataframe\">\n",
       "  <thead>\n",
       "    <tr style=\"text-align: right;\">\n",
       "      <th></th>\n",
       "      <th>CRIM</th>\n",
       "      <th>ZN</th>\n",
       "      <th>INDUS</th>\n",
       "      <th>CHAS</th>\n",
       "      <th>NOX</th>\n",
       "      <th>RM</th>\n",
       "      <th>AGE</th>\n",
       "      <th>DIS</th>\n",
       "      <th>RAD</th>\n",
       "      <th>TAX</th>\n",
       "      <th>PTRATIO</th>\n",
       "      <th>B</th>\n",
       "      <th>LSTAT</th>\n",
       "    </tr>\n",
       "  </thead>\n",
       "  <tbody>\n",
       "    <tr>\n",
       "      <th>0</th>\n",
       "      <td>0.00632</td>\n",
       "      <td>18.0</td>\n",
       "      <td>2.31</td>\n",
       "      <td>0.0</td>\n",
       "      <td>0.538</td>\n",
       "      <td>6.575</td>\n",
       "      <td>65.2</td>\n",
       "      <td>4.0900</td>\n",
       "      <td>1.0</td>\n",
       "      <td>296.0</td>\n",
       "      <td>15.3</td>\n",
       "      <td>396.90</td>\n",
       "      <td>4.98</td>\n",
       "    </tr>\n",
       "    <tr>\n",
       "      <th>1</th>\n",
       "      <td>0.02731</td>\n",
       "      <td>0.0</td>\n",
       "      <td>7.07</td>\n",
       "      <td>0.0</td>\n",
       "      <td>0.469</td>\n",
       "      <td>6.421</td>\n",
       "      <td>78.9</td>\n",
       "      <td>4.9671</td>\n",
       "      <td>2.0</td>\n",
       "      <td>242.0</td>\n",
       "      <td>17.8</td>\n",
       "      <td>396.90</td>\n",
       "      <td>9.14</td>\n",
       "    </tr>\n",
       "    <tr>\n",
       "      <th>2</th>\n",
       "      <td>0.02729</td>\n",
       "      <td>0.0</td>\n",
       "      <td>7.07</td>\n",
       "      <td>0.0</td>\n",
       "      <td>0.469</td>\n",
       "      <td>7.185</td>\n",
       "      <td>61.1</td>\n",
       "      <td>4.9671</td>\n",
       "      <td>2.0</td>\n",
       "      <td>242.0</td>\n",
       "      <td>17.8</td>\n",
       "      <td>392.83</td>\n",
       "      <td>4.03</td>\n",
       "    </tr>\n",
       "    <tr>\n",
       "      <th>3</th>\n",
       "      <td>0.03237</td>\n",
       "      <td>0.0</td>\n",
       "      <td>2.18</td>\n",
       "      <td>0.0</td>\n",
       "      <td>0.458</td>\n",
       "      <td>6.998</td>\n",
       "      <td>45.8</td>\n",
       "      <td>6.0622</td>\n",
       "      <td>3.0</td>\n",
       "      <td>222.0</td>\n",
       "      <td>18.7</td>\n",
       "      <td>394.63</td>\n",
       "      <td>2.94</td>\n",
       "    </tr>\n",
       "    <tr>\n",
       "      <th>4</th>\n",
       "      <td>0.06905</td>\n",
       "      <td>0.0</td>\n",
       "      <td>2.18</td>\n",
       "      <td>0.0</td>\n",
       "      <td>0.458</td>\n",
       "      <td>7.147</td>\n",
       "      <td>54.2</td>\n",
       "      <td>6.0622</td>\n",
       "      <td>3.0</td>\n",
       "      <td>222.0</td>\n",
       "      <td>18.7</td>\n",
       "      <td>396.90</td>\n",
       "      <td>5.33</td>\n",
       "    </tr>\n",
       "  </tbody>\n",
       "</table>\n",
       "</div>"
      ],
      "text/plain": [
       "      CRIM    ZN  INDUS  CHAS    NOX     RM   AGE     DIS  RAD    TAX  \\\n",
       "0  0.00632  18.0   2.31   0.0  0.538  6.575  65.2  4.0900  1.0  296.0   \n",
       "1  0.02731   0.0   7.07   0.0  0.469  6.421  78.9  4.9671  2.0  242.0   \n",
       "2  0.02729   0.0   7.07   0.0  0.469  7.185  61.1  4.9671  2.0  242.0   \n",
       "3  0.03237   0.0   2.18   0.0  0.458  6.998  45.8  6.0622  3.0  222.0   \n",
       "4  0.06905   0.0   2.18   0.0  0.458  7.147  54.2  6.0622  3.0  222.0   \n",
       "\n",
       "   PTRATIO       B  LSTAT  \n",
       "0     15.3  396.90   4.98  \n",
       "1     17.8  396.90   9.14  \n",
       "2     17.8  392.83   4.03  \n",
       "3     18.7  394.63   2.94  \n",
       "4     18.7  396.90   5.33  "
      ]
     },
     "execution_count": 4,
     "metadata": {},
     "output_type": "execute_result"
    }
   ],
   "source": [
    "df = pd.DataFrame(boston.data, columns = boston.feature_names)\n",
    "df.head()"
   ]
  },
  {
   "cell_type": "code",
   "execution_count": 5,
   "metadata": {},
   "outputs": [
    {
     "data": {
      "text/plain": [
       "array([24. , 21.6, 34.7, 33.4, 36.2, 28.7, 22.9, 27.1, 16.5, 18.9])"
      ]
     },
     "execution_count": 5,
     "metadata": {},
     "output_type": "execute_result"
    }
   ],
   "source": [
    "X = df.values\n",
    "y = boston.target\n",
    "y[:10]"
   ]
  },
  {
   "cell_type": "code",
   "execution_count": 6,
   "metadata": {},
   "outputs": [
    {
     "data": {
      "text/plain": [
       "array([[6.3200e-03, 1.8000e+01, 2.3100e+00, 0.0000e+00, 5.3800e-01,\n",
       "        6.5750e+00, 6.5200e+01, 4.0900e+00, 1.0000e+00, 2.9600e+02,\n",
       "        1.5300e+01, 3.9690e+02, 4.9800e+00],\n",
       "       [2.7310e-02, 0.0000e+00, 7.0700e+00, 0.0000e+00, 4.6900e-01,\n",
       "        6.4210e+00, 7.8900e+01, 4.9671e+00, 2.0000e+00, 2.4200e+02,\n",
       "        1.7800e+01, 3.9690e+02, 9.1400e+00],\n",
       "       [2.7290e-02, 0.0000e+00, 7.0700e+00, 0.0000e+00, 4.6900e-01,\n",
       "        7.1850e+00, 6.1100e+01, 4.9671e+00, 2.0000e+00, 2.4200e+02,\n",
       "        1.7800e+01, 3.9283e+02, 4.0300e+00],\n",
       "       [3.2370e-02, 0.0000e+00, 2.1800e+00, 0.0000e+00, 4.5800e-01,\n",
       "        6.9980e+00, 4.5800e+01, 6.0622e+00, 3.0000e+00, 2.2200e+02,\n",
       "        1.8700e+01, 3.9463e+02, 2.9400e+00],\n",
       "       [6.9050e-02, 0.0000e+00, 2.1800e+00, 0.0000e+00, 4.5800e-01,\n",
       "        7.1470e+00, 5.4200e+01, 6.0622e+00, 3.0000e+00, 2.2200e+02,\n",
       "        1.8700e+01, 3.9690e+02, 5.3300e+00],\n",
       "       [2.9850e-02, 0.0000e+00, 2.1800e+00, 0.0000e+00, 4.5800e-01,\n",
       "        6.4300e+00, 5.8700e+01, 6.0622e+00, 3.0000e+00, 2.2200e+02,\n",
       "        1.8700e+01, 3.9412e+02, 5.2100e+00],\n",
       "       [8.8290e-02, 1.2500e+01, 7.8700e+00, 0.0000e+00, 5.2400e-01,\n",
       "        6.0120e+00, 6.6600e+01, 5.5605e+00, 5.0000e+00, 3.1100e+02,\n",
       "        1.5200e+01, 3.9560e+02, 1.2430e+01],\n",
       "       [1.4455e-01, 1.2500e+01, 7.8700e+00, 0.0000e+00, 5.2400e-01,\n",
       "        6.1720e+00, 9.6100e+01, 5.9505e+00, 5.0000e+00, 3.1100e+02,\n",
       "        1.5200e+01, 3.9690e+02, 1.9150e+01],\n",
       "       [2.1124e-01, 1.2500e+01, 7.8700e+00, 0.0000e+00, 5.2400e-01,\n",
       "        5.6310e+00, 1.0000e+02, 6.0821e+00, 5.0000e+00, 3.1100e+02,\n",
       "        1.5200e+01, 3.8663e+02, 2.9930e+01],\n",
       "       [1.7004e-01, 1.2500e+01, 7.8700e+00, 0.0000e+00, 5.2400e-01,\n",
       "        6.0040e+00, 8.5900e+01, 6.5921e+00, 5.0000e+00, 3.1100e+02,\n",
       "        1.5200e+01, 3.8671e+02, 1.7100e+01]])"
      ]
     },
     "execution_count": 6,
     "metadata": {},
     "output_type": "execute_result"
    }
   ],
   "source": [
    "X[:10]"
   ]
  },
  {
   "cell_type": "code",
   "execution_count": 7,
   "metadata": {
    "collapsed": true
   },
   "outputs": [],
   "source": [
    "from sklearn.linear_model import LinearRegression\n",
    "lr_ne = LinearRegression(fit_intercept = True, n_jobs = 8)"
   ]
  },
  {
   "cell_type": "code",
   "execution_count": 8,
   "metadata": {
    "collapsed": true
   },
   "outputs": [],
   "source": [
    "from sklearn.model_selection import train_test_split\n",
    "X_train, X_test, y_train, y_test = train_test_split(X, y, test_size = 0.33, random_state = 42)"
   ]
  },
  {
   "cell_type": "code",
   "execution_count": 9,
   "metadata": {},
   "outputs": [
    {
     "data": {
      "text/plain": [
       "LinearRegression(copy_X=True, fit_intercept=True, n_jobs=8, normalize=False)"
      ]
     },
     "execution_count": 9,
     "metadata": {},
     "output_type": "execute_result"
    }
   ],
   "source": [
    "lr_ne.fit(X_train, y_train)"
   ]
  },
  {
   "cell_type": "code",
   "execution_count": 10,
   "metadata": {},
   "outputs": [
    {
     "data": {
      "text/plain": [
       "(33.38806218932447,\n",
       " array([-1.28060398e-01,  3.77955693e-02,  5.86107797e-02,  3.24007007e+00,\n",
       "        -1.62222676e+01,  3.89352244e+00, -1.27879944e-02, -1.42326864e+00,\n",
       "         2.34513082e-01, -8.20261127e-03, -9.29950535e-01,  1.19151410e-02,\n",
       "        -5.48489997e-01]))"
      ]
     },
     "execution_count": 10,
     "metadata": {},
     "output_type": "execute_result"
    }
   ],
   "source": [
    "lr_ne.intercept_, lr_ne.coef_    # 상수항(절편), 가중치(계수)"
   ]
  },
  {
   "cell_type": "code",
   "execution_count": 11,
   "metadata": {
    "collapsed": true
   },
   "outputs": [],
   "source": [
    "y_hat = lr_ne.predict(X_test)\n",
    "y_true = y_test"
   ]
  },
  {
   "cell_type": "code",
   "execution_count": 12,
   "metadata": {},
   "outputs": [
    {
     "data": {
      "text/plain": [
       "4.5549032218378604"
      ]
     },
     "execution_count": 12,
     "metadata": {},
     "output_type": "execute_result"
    }
   ],
   "source": [
    "rmse = np.sqrt((((y_hat - y_true) ** 2).sum() / len(y_true)))\n",
    "rmse"
   ]
  },
  {
   "cell_type": "code",
   "execution_count": 13,
   "metadata": {},
   "outputs": [
    {
     "data": {
      "text/plain": [
       "20.747143360308918"
      ]
     },
     "execution_count": 13,
     "metadata": {},
     "output_type": "execute_result"
    }
   ],
   "source": [
    "from sklearn.metrics import mean_squared_error\n",
    "mse = mean_squared_error(y_hat, y_true)\n",
    "mse"
   ]
  },
  {
   "cell_type": "code",
   "execution_count": 14,
   "metadata": {},
   "outputs": [
    {
     "data": {
      "text/plain": [
       "Text(0.5,1,'Prices vs Predicted prices : $Y_i$ vs $\\\\hat{Y}_is$')"
      ]
     },
     "execution_count": 14,
     "metadata": {},
     "output_type": "execute_result"
    },
    {
     "data": {
      "image/png": "[encoded data removed]",
      "text/plain": [
       "<matplotlib.figure.Figure at 0x7f37abe4a400>"
      ]
     },
     "metadata": {},
     "output_type": "display_data"
    }
   ],
   "source": [
    "plt.scatter(y_true, y_hat, s = 10)\n",
    "plt.xlabel('Prices :  $Y_i$')\n",
    "plt.ylabel('Predicted prices : %\\hat{Y}_is$')\n",
    "plt.title('Prices vs Predicted prices : $Y_i$ vs $\\hat{Y}_is$')"
   ]
  },
  {
   "cell_type": "markdown",
   "metadata": {},
   "source": [
    "### Linear Regression with SGD"
   ]
  },
  {
   "cell_type": "code",
   "execution_count": 15,
   "metadata": {
    "collapsed": true
   },
   "outputs": [],
   "source": [
    "from sklearn.linear_model import SGDRegressor\n",
    "lr_SGD = SGDRegressor(loss = 'squared_loss', penalty = 'l2', alpha = 0.01, max_iter = 100000, shuffle = True)"
   ]
  },
  {
   "cell_type": "code",
   "execution_count": 16,
   "metadata": {
    "collapsed": true
   },
   "outputs": [],
   "source": [
    "X_train, X_test, y_train, y_test = train_test_split(X, y, test_size = 0.33, random_state = 42)"
   ]
  },
  {
   "cell_type": "code",
   "execution_count": 17,
   "metadata": {},
   "outputs": [
    {
     "data": {
      "text/plain": [
       "SGDRegressor(alpha=0.01, average=False, epsilon=0.1, eta0=0.01,\n",
       "       fit_intercept=True, l1_ratio=0.15, learning_rate='invscaling',\n",
       "       loss='squared_loss', max_iter=100000, n_iter=None, penalty='l2',\n",
       "       power_t=0.25, random_state=None, shuffle=True, tol=None, verbose=0,\n",
       "       warm_start=False)"
      ]
     },
     "execution_count": 17,
     "metadata": {},
     "output_type": "execute_result"
    }
   ],
   "source": [
    "lr_SGD.fit(X_train, y_train)"
   ]
  },
  {
   "cell_type": "code",
   "execution_count": 18,
   "metadata": {
    "collapsed": true
   },
   "outputs": [],
   "source": [
    "y_hat = lr_SGD.predict(X_test)\n",
    "y_true = y_test"
   ]
  },
  {
   "cell_type": "code",
   "execution_count": 19,
   "metadata": {},
   "outputs": [
    {
     "data": {
      "text/plain": [
       "(45814437853619.875, 2.0989627158431976e+27)"
      ]
     },
     "execution_count": 19,
     "metadata": {},
     "output_type": "execute_result"
    }
   ],
   "source": [
    "mse = mean_squared_error(y_hat, y_true)\n",
    "rmse = np.sqrt((((y_hat - y_true) ** 2).sum() / len(y_true)))\n",
    "rmse, mse     # 학습을 하지 못하고 발산(scaled data를 사용해서 다시 fitting해야 함)"
   ]
  },
  {
   "cell_type": "code",
   "execution_count": 20,
   "metadata": {},
   "outputs": [
    {
     "data": {
      "text/plain": [
       "Text(0.5,1,'Prices vs Predicted prices : $Y_i$ vs $\\\\hat{Y}_i$')"
      ]
     },
     "execution_count": 20,
     "metadata": {},
     "output_type": "execute_result"
    },
    {
     "data": {
      "image/png": "[encoded data removed]",
      "text/plain": [
       "<matplotlib.figure.Figure at 0x7f37a02c1be0>"
      ]
     },
     "metadata": {},
     "output_type": "display_data"
    }
   ],
   "source": [
    "plt.scatter(y_true, y_hat, s = 10)\n",
    "plt.xlabel('Prices : $Y_i$')\n",
    "plt.ylabel('Predicted prices : $\\hat{Y}_i$')\n",
    "plt.title('Prices vs Predicted prices : $Y_i$ vs $\\hat{Y}_i$')"
   ]
  },
  {
   "cell_type": "code",
   "execution_count": 21,
   "metadata": {
    "collapsed": true
   },
   "outputs": [],
   "source": [
    "from sklearn.preprocessing import StandardScaler\n",
    "std_scaler = StandardScaler()\n",
    "std_scaler.fit(X)\n",
    "X_scaled = std_scaler.transform(X)"
   ]
  },
  {
   "cell_type": "code",
   "execution_count": 22,
   "metadata": {
    "collapsed": true
   },
   "outputs": [],
   "source": [
    "X_train, X_test, y_train, y_test = train_test_split(X_scaled, y, test_size = 0.33, random_state = 42)"
   ]
  },
  {
   "cell_type": "code",
   "execution_count": 23,
   "metadata": {},
   "outputs": [
    {
     "data": {
      "text/plain": [
       "SGDRegressor(alpha=0.01, average=False, epsilon=0.1, eta0=0.01,\n",
       "       fit_intercept=True, l1_ratio=0.15, learning_rate='invscaling',\n",
       "       loss='squared_loss', max_iter=100000, n_iter=None, penalty='l2',\n",
       "       power_t=0.25, random_state=None, shuffle=True, tol=None, verbose=0,\n",
       "       warm_start=False)"
      ]
     },
     "execution_count": 23,
     "metadata": {},
     "output_type": "execute_result"
    }
   ],
   "source": [
    "lr_SGD.fit(X_train, y_train)"
   ]
  },
  {
   "cell_type": "code",
   "execution_count": 24,
   "metadata": {
    "collapsed": true
   },
   "outputs": [],
   "source": [
    "y_hat = lr_SGD.predict(X_test)\n",
    "y_true = y_test"
   ]
  },
  {
   "cell_type": "code",
   "execution_count": 25,
   "metadata": {},
   "outputs": [
    {
     "data": {
      "text/plain": [
       "(4.564731557808295, 20.836774194850943)"
      ]
     },
     "execution_count": 25,
     "metadata": {},
     "output_type": "execute_result"
    }
   ],
   "source": [
    "mse = mean_squared_error(y_hat, y_true)\n",
    "rmse = np.sqrt((((y_hat - y_true) ** 2).sum() / len(y_true)))\n",
    "rmse, mse"
   ]
  },
  {
   "cell_type": "code",
   "execution_count": 26,
   "metadata": {},
   "outputs": [
    {
     "data": {
      "text/plain": [
       "Text(0.5,1,'Prices vs Predicted prices : $Y_i$ vs $\\\\hat{Y}_i$')"
      ]
     },
     "execution_count": 26,
     "metadata": {},
     "output_type": "execute_result"
    },
    {
     "data": {
      "image/png": "[encoded data removed]",
      "text/plain": [
       "<matplotlib.figure.Figure at 0x7f37a029f8d0>"
      ]
     },
     "metadata": {},
     "output_type": "display_data"
    }
   ],
   "source": [
    "plt.scatter(y_true, y_hat, s = 10)\n",
    "plt.xlabel('Prices : $Y_i$')\n",
    "plt.ylabel('Predicted prices : $\\hat{Y}_i$')\n",
    "plt.title('Prices vs Predicted prices : $Y_i$ vs $\\hat{Y}_i$')"
   ]
  },
  {
   "cell_type": "markdown",
   "metadata": {},
   "source": [
    "### Ridge & Lasso regression with Scikit Learn"
   ]
  },
  {
   "cell_type": "code",
   "execution_count": 27,
   "metadata": {
    "collapsed": true
   },
   "outputs": [],
   "source": [
    "from sklearn.linear_model import Lasso, Ridge"
   ]
  },
  {
   "cell_type": "code",
   "execution_count": 28,
   "metadata": {},
   "outputs": [
    {
     "data": {
      "text/plain": [
       "Ridge(alpha=0.5, copy_X=True, fit_intercept=True, max_iter=None,\n",
       "   normalize=True, random_state=None, solver='auto', tol=0.001)"
      ]
     },
     "execution_count": 28,
     "metadata": {},
     "output_type": "execute_result"
    }
   ],
   "source": [
    "ridge = Ridge(fit_intercept = True, normalize = True, copy_X = True, alpha  = 0.5)\n",
    "ridge.fit(X_train, y_train)"
   ]
  },
  {
   "cell_type": "code",
   "execution_count": 29,
   "metadata": {},
   "outputs": [
    {
     "data": {
      "text/plain": [
       "(4.941976490564917, 24.423131633296336)"
      ]
     },
     "execution_count": 29,
     "metadata": {},
     "output_type": "execute_result"
    }
   ],
   "source": [
    "y_hat = ridge.predict(X_test)\n",
    "y_true = y_test\n",
    "mse = mean_squared_error(y_hat, y_true)\n",
    "rmse = np.sqrt((((y_hat - y_true) ** 2).sum() / len(y_true)))\n",
    "rmse, mse"
   ]
  },
  {
   "cell_type": "code",
   "execution_count": 30,
   "metadata": {},
   "outputs": [
    {
     "name": "stdout",
     "output_type": "stream",
     "text": [
      "Ridge Regression\n",
      "alpha\t RMSE_train \t RMSE_10cv\n",
      "\n",
      "0.010\t 4.5549 \t\t 5.8806\n",
      "0.418\t 4.5561 \t\t 5.8467\n",
      "0.826\t 4.5573 \t\t 5.8319\n",
      "1.234\t 4.5586 \t\t 5.8234\n",
      "1.642\t 4.5598 \t\t 5.8175\n",
      "2.050\t 4.5610 \t\t 5.8126\n",
      "2.458\t 4.5622 \t\t 5.8082\n",
      "2.866\t 4.5634 \t\t 5.8041\n",
      "3.274\t 4.5646 \t\t 5.8000\n",
      "3.682\t 4.5658 \t\t 5.7960\n",
      "4.090\t 4.5670 \t\t 5.7920\n",
      "4.498\t 4.5682 \t\t 5.7880\n",
      "4.906\t 4.5694 \t\t 5.7840\n",
      "5.313\t 4.5706 \t\t 5.7800\n",
      "5.721\t 4.5717 \t\t 5.7760\n",
      "6.129\t 4.5729 \t\t 5.7720\n",
      "6.537\t 4.5741 \t\t 5.7680\n",
      "6.945\t 4.5752 \t\t 5.7641\n",
      "7.353\t 4.5764 \t\t 5.7602\n",
      "7.761\t 4.5775 \t\t 5.7563\n",
      "8.169\t 4.5787 \t\t 5.7524\n",
      "8.577\t 4.5798 \t\t 5.7485\n",
      "8.985\t 4.5809 \t\t 5.7447\n",
      "9.393\t 4.5820 \t\t 5.7410\n",
      "9.801\t 4.5832 \t\t 5.7372\n",
      "10.209\t 4.5843 \t\t 5.7335\n",
      "10.617\t 4.5854 \t\t 5.7298\n",
      "11.025\t 4.5865 \t\t 5.7262\n",
      "11.433\t 4.5876 \t\t 5.7226\n",
      "11.841\t 4.5887 \t\t 5.7190\n",
      "12.249\t 4.5897 \t\t 5.7155\n",
      "12.657\t 4.5908 \t\t 5.7120\n",
      "13.065\t 4.5919 \t\t 5.7086\n",
      "13.473\t 4.5930 \t\t 5.7052\n",
      "13.881\t 4.5940 \t\t 5.7018\n",
      "14.289\t 4.5951 \t\t 5.6985\n",
      "14.697\t 4.5961 \t\t 5.6952\n",
      "15.104\t 4.5972 \t\t 5.6919\n",
      "15.512\t 4.5982 \t\t 5.6887\n",
      "15.920\t 4.5993 \t\t 5.6856\n",
      "16.328\t 4.6003 \t\t 5.6824\n",
      "16.736\t 4.6013 \t\t 5.6793\n",
      "17.144\t 4.6024 \t\t 5.6762\n",
      "17.552\t 4.6034 \t\t 5.6732\n",
      "17.960\t 4.6044 \t\t 5.6702\n",
      "18.368\t 4.6054 \t\t 5.6672\n",
      "18.776\t 4.6064 \t\t 5.6643\n",
      "19.184\t 4.6074 \t\t 5.6614\n",
      "19.592\t 4.6084 \t\t 5.6585\n",
      "20.000\t 4.6094 \t\t 5.6557\n"
     ]
    }
   ],
   "source": [
    "from sklearn.model_selection import KFold\n",
    "print('Ridge Regression')\n",
    "print('alpha\\t RMSE_train \\t RMSE_10cv\\n')\n",
    "alpha = np.linspace(0.01, 20, 50)\n",
    "t_rmse = np.array([])\n",
    "cv_rmse = np.array([])\n",
    "\n",
    "for a in alpha :\n",
    "    ridge = Ridge(fit_intercept = True, alpha = a)\n",
    "    \n",
    "    ridge.fit(X_train, y_train)\n",
    "    p = ridge.predict(X_test)\n",
    "    err = p - y_test\n",
    "    total_error = np.dot(err, err)\n",
    "    rmse_train = np.sqrt(total_error/len(p))\n",
    "    kf = KFold(10)\n",
    "    xval_err = 0\n",
    "    for train, test in kf.split(X) :\n",
    "        ridge.fit(X[train], y[train])\n",
    "        p = ridge.predict(X[test])\n",
    "        err = p - y[test]\n",
    "        xval_err += np.dot(err, err)\n",
    "    rmse_10cv = np.sqrt(xval_err / len(X))\n",
    "    \n",
    "    t_rmse = np.append(t_rmse, [rmse_train])\n",
    "    cv_rmse = np.append(cv_rmse, [rmse_10cv])\n",
    "    print('{:.3f}\\t {:.4f} \\t\\t {:.4f}'.format(a, rmse_train, rmse_10cv))"
   ]
  },
  {
   "cell_type": "code",
   "execution_count": 31,
   "metadata": {},
   "outputs": [
    {
     "data": {
      "image/png": "[encoded data removed]",
      "text/plain": [
       "<matplotlib.figure.Figure at 0x7f37a02ea128>"
      ]
     },
     "metadata": {},
     "output_type": "display_data"
    }
   ],
   "source": [
    "plt.plot(alpha, t_rmse, label = 'RMSE_Train')\n",
    "plt.plot(alpha, cv_rmse, label = 'RMSE_XVal')\n",
    "plt.legend(('RMSE_Train', 'RMSE_XVal'))\n",
    "plt.ylabel('RMSE')\n",
    "plt.xlabel('Alpha')\n",
    "plt.show()"
   ]
  },
  {
   "cell_type": "markdown",
   "metadata": {},
   "source": [
    "### Polynomial Regression"
   ]
  },
  {
   "cell_type": "code",
   "execution_count": 32,
   "metadata": {
    "collapsed": true
   },
   "outputs": [],
   "source": [
    "def f(size) : \n",
    "    x = np.linspace(0, 5, size)\n",
    "    y = x * np.sin(x ** 2) + 1\n",
    "    return(x, y)\n",
    "\n",
    "def sample(size) :\n",
    "    x = np.linspace(0, 5, size)\n",
    "    y = x * np.sin(x ** 2) + 1 + np.random.randn(x.size) * 0.5\n",
    "    return(x, y)"
   ]
  },
  {
   "cell_type": "code",
   "execution_count": 33,
   "metadata": {},
   "outputs": [
    {
     "data": {
      "image/png": "[encoded data removed]",
      "text/plain": [
       "<matplotlib.figure.Figure at 0x7f37a01dcf60>"
      ]
     },
     "metadata": {},
     "output_type": "display_data"
    }
   ],
   "source": [
    "f_x, f_y = f(1000)\n",
    "plt.plot(f_x, f_y)\n",
    "X, y = sample(1000)\n",
    "plt.scatter(X, y, s = 3, c = 'black')\n",
    "plt.show()"
   ]
  },
  {
   "cell_type": "code",
   "execution_count": 34,
   "metadata": {},
   "outputs": [
    {
     "data": {
      "text/plain": [
       "((1000,), (1000,))"
      ]
     },
     "execution_count": 34,
     "metadata": {},
     "output_type": "execute_result"
    }
   ],
   "source": [
    "X.shape, y.shape"
   ]
  },
  {
   "cell_type": "code",
   "execution_count": 35,
   "metadata": {},
   "outputs": [
    {
     "data": {
      "text/plain": [
       "((1000, 1), (1000, 1))"
      ]
     },
     "execution_count": 35,
     "metadata": {},
     "output_type": "execute_result"
    }
   ],
   "source": [
    "X = X.reshape(-1, 1)\n",
    "y = y.reshape(-1, 1)\n",
    "X.shape, y.shape"
   ]
  },
  {
   "cell_type": "code",
   "execution_count": 36,
   "metadata": {},
   "outputs": [
    {
     "data": {
      "text/plain": [
       "LinearRegression(copy_X=True, fit_intercept=True, n_jobs=1, normalize=False)"
      ]
     },
     "execution_count": 36,
     "metadata": {},
     "output_type": "execute_result"
    }
   ],
   "source": [
    "from sklearn.linear_model import LinearRegression\n",
    "\n",
    "lr = LinearRegression()\n",
    "lr.fit(X, y)"
   ]
  },
  {
   "cell_type": "code",
   "execution_count": 37,
   "metadata": {},
   "outputs": [
    {
     "data": {
      "image/png": "[encoded data removed]",
      "text/plain": [
       "<matplotlib.figure.Figure at 0x7f37a02cfef0>"
      ]
     },
     "metadata": {},
     "output_type": "display_data"
    }
   ],
   "source": [
    "f_x, f_y = f(1000)\n",
    "plt.plot(f_x, f_y)\n",
    "plt.scatter(X.flatten(), y.flatten(), s = 3, c = 'black')\n",
    "plt.plot(X.flatten(), lr.predict(X).flatten())\n",
    "plt.show()     # 회귀선 추정하여 그리기"
   ]
  },
  {
   "cell_type": "code",
   "execution_count": 38,
   "metadata": {},
   "outputs": [
    {
     "data": {
      "text/plain": [
       "array([[1.00000000e+00, 0.00000000e+00, 0.00000000e+00],\n",
       "       [1.00000000e+00, 5.00500501e-03, 2.50500751e-05],\n",
       "       [1.00000000e+00, 1.00100100e-02, 1.00200300e-04],\n",
       "       [1.00000000e+00, 1.50150150e-02, 2.25450676e-04],\n",
       "       [1.00000000e+00, 2.00200200e-02, 4.00801202e-04],\n",
       "       [1.00000000e+00, 2.50250250e-02, 6.26251878e-04],\n",
       "       [1.00000000e+00, 3.00300300e-02, 9.01802704e-04],\n",
       "       [1.00000000e+00, 3.50350350e-02, 1.22745368e-03],\n",
       "       [1.00000000e+00, 4.00400400e-02, 1.60320481e-03],\n",
       "       [1.00000000e+00, 4.50450450e-02, 2.02905608e-03]])"
      ]
     },
     "execution_count": 38,
     "metadata": {},
     "output_type": "execute_result"
    }
   ],
   "source": [
    "from sklearn.preprocessing import PolynomialFeatures\n",
    "\n",
    "poly_features = PolynomialFeatures(degree = 2)\n",
    "X_poly = poly_features.fit_transform(X)\n",
    "X_poly[:10]"
   ]
  },
  {
   "cell_type": "code",
   "execution_count": 39,
   "metadata": {},
   "outputs": [
    {
     "data": {
      "text/plain": [
       "LinearRegression(copy_X=True, fit_intercept=True, n_jobs=1, normalize=False)"
      ]
     },
     "execution_count": 39,
     "metadata": {},
     "output_type": "execute_result"
    }
   ],
   "source": [
    "lr = LinearRegression()\n",
    "lr.fit(X_poly, y)"
   ]
  },
  {
   "cell_type": "code",
   "execution_count": 40,
   "metadata": {},
   "outputs": [
    {
     "data": {
      "image/png": "[encoded data removed]",
      "text/plain": [
       "<matplotlib.figure.Figure at 0x7f37a01b2080>"
      ]
     },
     "metadata": {},
     "output_type": "display_data"
    }
   ],
   "source": [
    "f_x, f_y = f(1000)\n",
    "plt.plot(f_x, f_y)\n",
    "plt.scatter(X.flatten(), y.flatten(), s = 3, c = 'black')\n",
    "plt.plot(X.flatten(), lr.predict(X_poly).flatten())\n",
    "plt.show()"
   ]
  },
  {
   "cell_type": "code",
   "execution_count": 41,
   "metadata": {},
   "outputs": [
    {
     "data": {
      "text/plain": [
       "array([[1.00000000e+00, 0.00000000e+00, 0.00000000e+00, 0.00000000e+00,\n",
       "        0.00000000e+00, 0.00000000e+00, 0.00000000e+00, 0.00000000e+00,\n",
       "        0.00000000e+00, 0.00000000e+00, 0.00000000e+00, 0.00000000e+00,\n",
       "        0.00000000e+00, 0.00000000e+00, 0.00000000e+00, 0.00000000e+00,\n",
       "        0.00000000e+00],\n",
       "       [1.00000000e+00, 5.00500501e-03, 2.50500751e-05, 1.25375751e-07,\n",
       "        6.27506263e-10, 3.14067198e-12, 1.57190790e-14, 7.86740691e-17,\n",
       "        3.93764110e-19, 1.97079134e-21, 9.86382051e-24, 4.93684710e-26,\n",
       "        2.47089445e-28, 1.23668391e-30, 6.18960915e-33, 3.09790248e-35,\n",
       "        1.55050174e-37],\n",
       "       [1.00000000e+00, 1.00100100e-02, 1.00200300e-04, 1.00300601e-06,\n",
       "        1.00401002e-08, 1.00501504e-10, 1.00602106e-12, 1.00702808e-14,\n",
       "        1.00803612e-16, 1.00904517e-18, 1.01005522e-20, 1.01106629e-22,\n",
       "        1.01207837e-24, 1.01309146e-26, 1.01410556e-28, 1.01512068e-30,\n",
       "        1.01613682e-32]])"
      ]
     },
     "execution_count": 41,
     "metadata": {},
     "output_type": "execute_result"
    }
   ],
   "source": [
    "poly_features = PolynomialFeatures(degree = 16)\n",
    "X_poly = poly_features.fit_transform(X)\n",
    "X_poly[:3]"
   ]
  },
  {
   "cell_type": "code",
   "execution_count": 42,
   "metadata": {},
   "outputs": [
    {
     "data": {
      "text/plain": [
       "LinearRegression(copy_X=True, fit_intercept=True, n_jobs=1, normalize=False)"
      ]
     },
     "execution_count": 42,
     "metadata": {},
     "output_type": "execute_result"
    }
   ],
   "source": [
    "lr = LinearRegression()\n",
    "lr.fit(X_poly, y)"
   ]
  },
  {
   "cell_type": "code",
   "execution_count": 43,
   "metadata": {},
   "outputs": [
    {
     "data": {
      "image/png": "[encoded data removed]",
      "text/plain": [
       "<matplotlib.figure.Figure at 0x7f37a0124b38>"
      ]
     },
     "metadata": {},
     "output_type": "display_data"
    }
   ],
   "source": [
    "f_x, f_y = f(1000)\n",
    "plt.plot(f_x, f_y)\n",
    "plt.scatter(X.flatten(), y.flatten(), s = 3, c = 'black')\n",
    "plt.plot(X.flatten(), lr.predict(X_poly).flatten())\n",
    "plt.show()"
   ]
  },
  {
   "cell_type": "code",
   "execution_count": 44,
   "metadata": {
    "collapsed": true
   },
   "outputs": [],
   "source": [
    "def rmse(predictions, targets) :\n",
    "    return np.sqrt(((predictions - targets) ** 2).mean())"
   ]
  },
  {
   "cell_type": "code",
   "execution_count": 65,
   "metadata": {},
   "outputs": [
    {
     "name": "stderr",
     "output_type": "stream",
     "text": [
      "/home/jin-lab/anaconda3/lib/python3.6/site-packages/sklearn/linear_model/coordinate_descent.py:491: ConvergenceWarning: Objective did not converge. You might want to increase the number of iterations. Fitting data with very small alpha may cause precision problems.\n",
      "  ConvergenceWarning)\n",
      "/home/jin-lab/anaconda3/lib/python3.6/site-packages/scipy/linalg/basic.py:223: RuntimeWarning: scipy.linalg.solve\n",
      "Ill-conditioned matrix detected. Result is not guaranteed to be accurate.\n",
      "Reciprocal condition number: 9.63029343670528e-18\n",
      "  ' condition number: {}'.format(rcond), RuntimeWarning)\n",
      "/home/jin-lab/anaconda3/lib/python3.6/site-packages/scipy/linalg/basic.py:223: RuntimeWarning: scipy.linalg.solve\n",
      "Ill-conditioned matrix detected. Result is not guaranteed to be accurate.\n",
      "Reciprocal condition number: 2.4333389256089504e-17\n",
      "  ' condition number: {}'.format(rcond), RuntimeWarning)\n",
      "/home/jin-lab/anaconda3/lib/python3.6/site-packages/scipy/linalg/basic.py:223: RuntimeWarning: scipy.linalg.solve\n",
      "Ill-conditioned matrix detected. Result is not guaranteed to be accurate.\n",
      "Reciprocal condition number: 1.9599682810023922e-17\n",
      "  ' condition number: {}'.format(rcond), RuntimeWarning)\n",
      "/home/jin-lab/anaconda3/lib/python3.6/site-packages/scipy/linalg/basic.py:223: RuntimeWarning: scipy.linalg.solve\n",
      "Ill-conditioned matrix detected. Result is not guaranteed to be accurate.\n",
      "Reciprocal condition number: 2.76552584651233e-18\n",
      "  ' condition number: {}'.format(rcond), RuntimeWarning)\n",
      "/home/jin-lab/anaconda3/lib/python3.6/site-packages/scipy/linalg/basic.py:223: RuntimeWarning: scipy.linalg.solve\n",
      "Ill-conditioned matrix detected. Result is not guaranteed to be accurate.\n",
      "Reciprocal condition number: 6.339851376963726e-18\n",
      "  ' condition number: {}'.format(rcond), RuntimeWarning)\n",
      "/home/jin-lab/anaconda3/lib/python3.6/site-packages/scipy/linalg/basic.py:223: RuntimeWarning: scipy.linalg.solve\n",
      "Ill-conditioned matrix detected. Result is not guaranteed to be accurate.\n",
      "Reciprocal condition number: 3.3200184518560704e-18\n",
      "  ' condition number: {}'.format(rcond), RuntimeWarning)\n",
      "/home/jin-lab/anaconda3/lib/python3.6/site-packages/scipy/linalg/basic.py:223: RuntimeWarning: scipy.linalg.solve\n",
      "Ill-conditioned matrix detected. Result is not guaranteed to be accurate.\n",
      "Reciprocal condition number: 5.1772905179619824e-18\n",
      "  ' condition number: {}'.format(rcond), RuntimeWarning)\n",
      "/home/jin-lab/anaconda3/lib/python3.6/site-packages/scipy/linalg/basic.py:223: RuntimeWarning: scipy.linalg.solve\n",
      "Ill-conditioned matrix detected. Result is not guaranteed to be accurate.\n",
      "Reciprocal condition number: 5.137654782653027e-18\n",
      "  ' condition number: {}'.format(rcond), RuntimeWarning)\n",
      "/home/jin-lab/anaconda3/lib/python3.6/site-packages/scipy/linalg/basic.py:223: RuntimeWarning: scipy.linalg.solve\n",
      "Ill-conditioned matrix detected. Result is not guaranteed to be accurate.\n",
      "Reciprocal condition number: 1.079324173143112e-18\n",
      "  ' condition number: {}'.format(rcond), RuntimeWarning)\n",
      "/home/jin-lab/anaconda3/lib/python3.6/site-packages/scipy/linalg/basic.py:223: RuntimeWarning: scipy.linalg.solve\n",
      "Ill-conditioned matrix detected. Result is not guaranteed to be accurate.\n",
      "Reciprocal condition number: 4.206738552440149e-18\n",
      "  ' condition number: {}'.format(rcond), RuntimeWarning)\n",
      "/home/jin-lab/anaconda3/lib/python3.6/site-packages/scipy/linalg/basic.py:223: RuntimeWarning: scipy.linalg.solve\n",
      "Ill-conditioned matrix detected. Result is not guaranteed to be accurate.\n",
      "Reciprocal condition number: 2.808756485838749e-18\n",
      "  ' condition number: {}'.format(rcond), RuntimeWarning)\n",
      "/home/jin-lab/anaconda3/lib/python3.6/site-packages/scipy/linalg/basic.py:223: RuntimeWarning: scipy.linalg.solve\n",
      "Ill-conditioned matrix detected. Result is not guaranteed to be accurate.\n",
      "Reciprocal condition number: 4.413267514371673e-19\n",
      "  ' condition number: {}'.format(rcond), RuntimeWarning)\n",
      "/home/jin-lab/anaconda3/lib/python3.6/site-packages/scipy/linalg/basic.py:223: RuntimeWarning: scipy.linalg.solve\n",
      "Ill-conditioned matrix detected. Result is not guaranteed to be accurate.\n",
      "Reciprocal condition number: 8.892294506951158e-19\n",
      "  ' condition number: {}'.format(rcond), RuntimeWarning)\n",
      "/home/jin-lab/anaconda3/lib/python3.6/site-packages/scipy/linalg/basic.py:223: RuntimeWarning: scipy.linalg.solve\n",
      "Ill-conditioned matrix detected. Result is not guaranteed to be accurate.\n",
      "Reciprocal condition number: 5.4267405508123625e-19\n",
      "  ' condition number: {}'.format(rcond), RuntimeWarning)\n",
      "/home/jin-lab/anaconda3/lib/python3.6/site-packages/scipy/linalg/basic.py:223: RuntimeWarning: scipy.linalg.solve\n",
      "Ill-conditioned matrix detected. Result is not guaranteed to be accurate.\n",
      "Reciprocal condition number: 7.773901218045244e-19\n",
      "  ' condition number: {}'.format(rcond), RuntimeWarning)\n",
      "/home/jin-lab/anaconda3/lib/python3.6/site-packages/scipy/linalg/basic.py:223: RuntimeWarning: scipy.linalg.solve\n",
      "Ill-conditioned matrix detected. Result is not guaranteed to be accurate.\n",
      "Reciprocal condition number: 1.0481367475871986e-18\n",
      "  ' condition number: {}'.format(rcond), RuntimeWarning)\n",
      "/home/jin-lab/anaconda3/lib/python3.6/site-packages/scipy/linalg/basic.py:223: RuntimeWarning: scipy.linalg.solve\n",
      "Ill-conditioned matrix detected. Result is not guaranteed to be accurate.\n",
      "Reciprocal condition number: 3.6946769326726344e-19\n",
      "  ' condition number: {}'.format(rcond), RuntimeWarning)\n",
      "/home/jin-lab/anaconda3/lib/python3.6/site-packages/scipy/linalg/basic.py:223: RuntimeWarning: scipy.linalg.solve\n",
      "Ill-conditioned matrix detected. Result is not guaranteed to be accurate.\n",
      "Reciprocal condition number: 2.999706472799299e-19\n",
      "  ' condition number: {}'.format(rcond), RuntimeWarning)\n",
      "/home/jin-lab/anaconda3/lib/python3.6/site-packages/scipy/linalg/basic.py:223: RuntimeWarning: scipy.linalg.solve\n",
      "Ill-conditioned matrix detected. Result is not guaranteed to be accurate.\n",
      "Reciprocal condition number: 5.215380622843308e-19\n",
      "  ' condition number: {}'.format(rcond), RuntimeWarning)\n",
      "/home/jin-lab/anaconda3/lib/python3.6/site-packages/scipy/linalg/basic.py:223: RuntimeWarning: scipy.linalg.solve\n",
      "Ill-conditioned matrix detected. Result is not guaranteed to be accurate.\n",
      "Reciprocal condition number: 6.605315919795021e-19\n",
      "  ' condition number: {}'.format(rcond), RuntimeWarning)\n",
      "/home/jin-lab/anaconda3/lib/python3.6/site-packages/scipy/linalg/basic.py:223: RuntimeWarning: scipy.linalg.solve\n",
      "Ill-conditioned matrix detected. Result is not guaranteed to be accurate.\n",
      "Reciprocal condition number: 2.8108775185008032e-19\n",
      "  ' condition number: {}'.format(rcond), RuntimeWarning)\n",
      "/home/jin-lab/anaconda3/lib/python3.6/site-packages/scipy/linalg/basic.py:223: RuntimeWarning: scipy.linalg.solve\n",
      "Ill-conditioned matrix detected. Result is not guaranteed to be accurate.\n",
      "Reciprocal condition number: 7.069305799984734e-19\n",
      "  ' condition number: {}'.format(rcond), RuntimeWarning)\n",
      "/home/jin-lab/anaconda3/lib/python3.6/site-packages/scipy/linalg/basic.py:223: RuntimeWarning: scipy.linalg.solve\n",
      "Ill-conditioned matrix detected. Result is not guaranteed to be accurate.\n",
      "Reciprocal condition number: 1.8382263051351076e-19\n",
      "  ' condition number: {}'.format(rcond), RuntimeWarning)\n",
      "/home/jin-lab/anaconda3/lib/python3.6/site-packages/scipy/linalg/basic.py:223: RuntimeWarning: scipy.linalg.solve\n",
      "Ill-conditioned matrix detected. Result is not guaranteed to be accurate.\n",
      "Reciprocal condition number: 4.251861966100102e-19\n",
      "  ' condition number: {}'.format(rcond), RuntimeWarning)\n",
      "/home/jin-lab/anaconda3/lib/python3.6/site-packages/scipy/linalg/basic.py:223: RuntimeWarning: scipy.linalg.solve\n",
      "Ill-conditioned matrix detected. Result is not guaranteed to be accurate.\n",
      "Reciprocal condition number: 4.3056342603651405e-19\n",
      "  ' condition number: {}'.format(rcond), RuntimeWarning)\n",
      "/home/jin-lab/anaconda3/lib/python3.6/site-packages/scipy/linalg/basic.py:223: RuntimeWarning: scipy.linalg.solve\n",
      "Ill-conditioned matrix detected. Result is not guaranteed to be accurate.\n",
      "Reciprocal condition number: 2.9820574387154586e-19\n",
      "  ' condition number: {}'.format(rcond), RuntimeWarning)\n",
      "/home/jin-lab/anaconda3/lib/python3.6/site-packages/scipy/linalg/basic.py:223: RuntimeWarning: scipy.linalg.solve\n",
      "Ill-conditioned matrix detected. Result is not guaranteed to be accurate.\n",
      "Reciprocal condition number: 4.438785863633246e-20\n",
      "  ' condition number: {}'.format(rcond), RuntimeWarning)\n",
      "/home/jin-lab/anaconda3/lib/python3.6/site-packages/scipy/linalg/basic.py:223: RuntimeWarning: scipy.linalg.solve\n",
      "Ill-conditioned matrix detected. Result is not guaranteed to be accurate.\n",
      "Reciprocal condition number: 6.25668318140714e-19\n",
      "  ' condition number: {}'.format(rcond), RuntimeWarning)\n",
      "/home/jin-lab/anaconda3/lib/python3.6/site-packages/scipy/linalg/basic.py:223: RuntimeWarning: scipy.linalg.solve\n",
      "Ill-conditioned matrix detected. Result is not guaranteed to be accurate.\n",
      "Reciprocal condition number: 1.0568531658344134e-19\n",
      "  ' condition number: {}'.format(rcond), RuntimeWarning)\n",
      "/home/jin-lab/anaconda3/lib/python3.6/site-packages/scipy/linalg/basic.py:223: RuntimeWarning: scipy.linalg.solve\n",
      "Ill-conditioned matrix detected. Result is not guaranteed to be accurate.\n",
      "Reciprocal condition number: 2.534729491334373e-19\n",
      "  ' condition number: {}'.format(rcond), RuntimeWarning)\n",
      "/home/jin-lab/anaconda3/lib/python3.6/site-packages/scipy/linalg/basic.py:223: RuntimeWarning: scipy.linalg.solve\n",
      "Ill-conditioned matrix detected. Result is not guaranteed to be accurate.\n",
      "Reciprocal condition number: 4.802201874751634e-19\n",
      "  ' condition number: {}'.format(rcond), RuntimeWarning)\n",
      "/home/jin-lab/anaconda3/lib/python3.6/site-packages/scipy/linalg/basic.py:223: RuntimeWarning: scipy.linalg.solve\n",
      "Ill-conditioned matrix detected. Result is not guaranteed to be accurate.\n",
      "Reciprocal condition number: 3.25074550070392e-19\n",
      "  ' condition number: {}'.format(rcond), RuntimeWarning)\n",
      "/home/jin-lab/anaconda3/lib/python3.6/site-packages/scipy/linalg/basic.py:223: RuntimeWarning: scipy.linalg.solve\n",
      "Ill-conditioned matrix detected. Result is not guaranteed to be accurate.\n",
      "Reciprocal condition number: 3.5920010891286767e-19\n",
      "  ' condition number: {}'.format(rcond), RuntimeWarning)\n"
     ]
    },
    {
     "name": "stderr",
     "output_type": "stream",
     "text": [
      "/home/jin-lab/anaconda3/lib/python3.6/site-packages/scipy/linalg/basic.py:223: RuntimeWarning: scipy.linalg.solve\n",
      "Ill-conditioned matrix detected. Result is not guaranteed to be accurate.\n",
      "Reciprocal condition number: 3.9473981598401456e-19\n",
      "  ' condition number: {}'.format(rcond), RuntimeWarning)\n",
      "/home/jin-lab/anaconda3/lib/python3.6/site-packages/scipy/linalg/basic.py:223: RuntimeWarning: scipy.linalg.solve\n",
      "Ill-conditioned matrix detected. Result is not guaranteed to be accurate.\n",
      "Reciprocal condition number: 2.2071053593254445e-19\n",
      "  ' condition number: {}'.format(rcond), RuntimeWarning)\n",
      "/home/jin-lab/anaconda3/lib/python3.6/site-packages/scipy/linalg/basic.py:223: RuntimeWarning: scipy.linalg.solve\n",
      "Ill-conditioned matrix detected. Result is not guaranteed to be accurate.\n",
      "Reciprocal condition number: 5.750198740919387e-20\n",
      "  ' condition number: {}'.format(rcond), RuntimeWarning)\n"
     ]
    }
   ],
   "source": [
    "poly_range = list(range(10, 50))\n",
    "rmse_lr_list = []\n",
    "rmse_lasso_list = []\n",
    "rmse_ridge_list = []\n",
    "\n",
    "from sklearn.linear_model import Lasso\n",
    "from sklearn.linear_model import Ridge\n",
    "\n",
    "for poly_value in poly_range :\n",
    "    poly_features = PolynomialFeatures(degree = poly_value)\n",
    "    X_poly = poly_features.fit_transform(X)\n",
    "    lr = LinearRegression()\n",
    "    lr.fit(X_poly, y)\n",
    "    \n",
    "    rmse_lr_list.append(rmse(lr.predict(X_poly), y))\n",
    "    \n",
    "    lasso = Lasso(alpha=0.5, fit_intercept = False)\n",
    "    lasso.fit(X_poly, y)\n",
    "    rmse_lasso_list.append(rmse(lasso.predict(X_poly), y))\n",
    "    \n",
    "    ridge = Ridge(alpha=0.5, fit_intercept = False)\n",
    "    ridge.fit(X_poly, y)\n",
    "    rmse_ridge_list.append(rmse(ridge.predict(X_poly), y))"
   ]
  },
  {
   "cell_type": "code",
   "execution_count": 66,
   "metadata": {},
   "outputs": [
    {
     "data": {
      "text/html": [
       "<div>\n",
       "<style>\n",
       "    .dataframe thead tr:only-child th {\n",
       "        text-align: right;\n",
       "    }\n",
       "\n",
       "    .dataframe thead th {\n",
       "        text-align: left;\n",
       "    }\n",
       "\n",
       "    .dataframe tbody tr th {\n",
       "        vertical-align: top;\n",
       "    }\n",
       "</style>\n",
       "<table border=\"1\" class=\"dataframe\">\n",
       "  <thead>\n",
       "    <tr style=\"text-align: right;\">\n",
       "      <th></th>\n",
       "      <th>lasso_rmse</th>\n",
       "      <th>lr_rmse</th>\n",
       "      <th>ridge_rmse</th>\n",
       "    </tr>\n",
       "    <tr>\n",
       "      <th>poly_range</th>\n",
       "      <th></th>\n",
       "      <th></th>\n",
       "      <th></th>\n",
       "    </tr>\n",
       "  </thead>\n",
       "  <tbody>\n",
       "    <tr>\n",
       "      <th>10</th>\n",
       "      <td>2.287430</td>\n",
       "      <td>1.906413</td>\n",
       "      <td>1.921752</td>\n",
       "    </tr>\n",
       "    <tr>\n",
       "      <th>11</th>\n",
       "      <td>2.286194</td>\n",
       "      <td>1.897359</td>\n",
       "      <td>1.910782</td>\n",
       "    </tr>\n",
       "    <tr>\n",
       "      <th>12</th>\n",
       "      <td>2.284683</td>\n",
       "      <td>1.625725</td>\n",
       "      <td>1.909448</td>\n",
       "    </tr>\n",
       "    <tr>\n",
       "      <th>13</th>\n",
       "      <td>2.283578</td>\n",
       "      <td>1.339138</td>\n",
       "      <td>1.861958</td>\n",
       "    </tr>\n",
       "    <tr>\n",
       "      <th>14</th>\n",
       "      <td>2.283160</td>\n",
       "      <td>1.325382</td>\n",
       "      <td>1.585558</td>\n",
       "    </tr>\n",
       "    <tr>\n",
       "      <th>15</th>\n",
       "      <td>2.283362</td>\n",
       "      <td>0.913602</td>\n",
       "      <td>1.559023</td>\n",
       "    </tr>\n",
       "    <tr>\n",
       "      <th>16</th>\n",
       "      <td>2.284079</td>\n",
       "      <td>0.716463</td>\n",
       "      <td>1.478898</td>\n",
       "    </tr>\n",
       "    <tr>\n",
       "      <th>17</th>\n",
       "      <td>2.285069</td>\n",
       "      <td>0.685019</td>\n",
       "      <td>1.467680</td>\n",
       "    </tr>\n",
       "    <tr>\n",
       "      <th>18</th>\n",
       "      <td>2.286037</td>\n",
       "      <td>0.708109</td>\n",
       "      <td>1.446605</td>\n",
       "    </tr>\n",
       "    <tr>\n",
       "      <th>19</th>\n",
       "      <td>2.286852</td>\n",
       "      <td>0.666838</td>\n",
       "      <td>1.468125</td>\n",
       "    </tr>\n",
       "    <tr>\n",
       "      <th>20</th>\n",
       "      <td>2.287426</td>\n",
       "      <td>0.652534</td>\n",
       "      <td>1.517265</td>\n",
       "    </tr>\n",
       "    <tr>\n",
       "      <th>21</th>\n",
       "      <td>2.287715</td>\n",
       "      <td>0.627346</td>\n",
       "      <td>0.852582</td>\n",
       "    </tr>\n",
       "    <tr>\n",
       "      <th>22</th>\n",
       "      <td>2.287715</td>\n",
       "      <td>0.536452</td>\n",
       "      <td>0.817736</td>\n",
       "    </tr>\n",
       "    <tr>\n",
       "      <th>23</th>\n",
       "      <td>2.287457</td>\n",
       "      <td>0.537520</td>\n",
       "      <td>0.825759</td>\n",
       "    </tr>\n",
       "    <tr>\n",
       "      <th>24</th>\n",
       "      <td>2.287006</td>\n",
       "      <td>0.623549</td>\n",
       "      <td>0.853573</td>\n",
       "    </tr>\n",
       "    <tr>\n",
       "      <th>25</th>\n",
       "      <td>2.286451</td>\n",
       "      <td>0.711379</td>\n",
       "      <td>0.812540</td>\n",
       "    </tr>\n",
       "    <tr>\n",
       "      <th>26</th>\n",
       "      <td>2.285907</td>\n",
       "      <td>0.811111</td>\n",
       "      <td>0.827819</td>\n",
       "    </tr>\n",
       "    <tr>\n",
       "      <th>27</th>\n",
       "      <td>2.285495</td>\n",
       "      <td>0.975133</td>\n",
       "      <td>0.795666</td>\n",
       "    </tr>\n",
       "    <tr>\n",
       "      <th>28</th>\n",
       "      <td>2.285307</td>\n",
       "      <td>1.100348</td>\n",
       "      <td>0.833012</td>\n",
       "    </tr>\n",
       "    <tr>\n",
       "      <th>29</th>\n",
       "      <td>2.285410</td>\n",
       "      <td>1.159738</td>\n",
       "      <td>0.740346</td>\n",
       "    </tr>\n",
       "    <tr>\n",
       "      <th>30</th>\n",
       "      <td>2.285875</td>\n",
       "      <td>1.154119</td>\n",
       "      <td>0.959559</td>\n",
       "    </tr>\n",
       "    <tr>\n",
       "      <th>31</th>\n",
       "      <td>2.286763</td>\n",
       "      <td>1.256712</td>\n",
       "      <td>1.121801</td>\n",
       "    </tr>\n",
       "    <tr>\n",
       "      <th>32</th>\n",
       "      <td>2.288124</td>\n",
       "      <td>1.312784</td>\n",
       "      <td>0.637506</td>\n",
       "    </tr>\n",
       "    <tr>\n",
       "      <th>33</th>\n",
       "      <td>2.289984</td>\n",
       "      <td>1.374767</td>\n",
       "      <td>0.576720</td>\n",
       "    </tr>\n",
       "    <tr>\n",
       "      <th>34</th>\n",
       "      <td>2.292349</td>\n",
       "      <td>1.356747</td>\n",
       "      <td>0.551070</td>\n",
       "    </tr>\n",
       "    <tr>\n",
       "      <th>35</th>\n",
       "      <td>2.295201</td>\n",
       "      <td>1.343737</td>\n",
       "      <td>0.570692</td>\n",
       "    </tr>\n",
       "    <tr>\n",
       "      <th>36</th>\n",
       "      <td>2.298504</td>\n",
       "      <td>1.318485</td>\n",
       "      <td>0.861208</td>\n",
       "    </tr>\n",
       "    <tr>\n",
       "      <th>37</th>\n",
       "      <td>2.302208</td>\n",
       "      <td>1.291799</td>\n",
       "      <td>0.743893</td>\n",
       "    </tr>\n",
       "    <tr>\n",
       "      <th>38</th>\n",
       "      <td>2.306252</td>\n",
       "      <td>1.269818</td>\n",
       "      <td>0.768603</td>\n",
       "    </tr>\n",
       "    <tr>\n",
       "      <th>39</th>\n",
       "      <td>2.310567</td>\n",
       "      <td>1.264582</td>\n",
       "      <td>0.551645</td>\n",
       "    </tr>\n",
       "    <tr>\n",
       "      <th>40</th>\n",
       "      <td>2.315083</td>\n",
       "      <td>1.277871</td>\n",
       "      <td>1.182666</td>\n",
       "    </tr>\n",
       "    <tr>\n",
       "      <th>41</th>\n",
       "      <td>2.319728</td>\n",
       "      <td>1.336879</td>\n",
       "      <td>0.648078</td>\n",
       "    </tr>\n",
       "    <tr>\n",
       "      <th>42</th>\n",
       "      <td>2.324435</td>\n",
       "      <td>1.809724</td>\n",
       "      <td>0.610697</td>\n",
       "    </tr>\n",
       "    <tr>\n",
       "      <th>43</th>\n",
       "      <td>2.329140</td>\n",
       "      <td>1.507106</td>\n",
       "      <td>0.527200</td>\n",
       "    </tr>\n",
       "    <tr>\n",
       "      <th>44</th>\n",
       "      <td>2.333783</td>\n",
       "      <td>1.493771</td>\n",
       "      <td>0.509379</td>\n",
       "    </tr>\n",
       "    <tr>\n",
       "      <th>45</th>\n",
       "      <td>2.338313</td>\n",
       "      <td>1.586915</td>\n",
       "      <td>0.514578</td>\n",
       "    </tr>\n",
       "    <tr>\n",
       "      <th>46</th>\n",
       "      <td>2.342685</td>\n",
       "      <td>1.470386</td>\n",
       "      <td>0.525634</td>\n",
       "    </tr>\n",
       "    <tr>\n",
       "      <th>47</th>\n",
       "      <td>2.346863</td>\n",
       "      <td>1.464370</td>\n",
       "      <td>0.548344</td>\n",
       "    </tr>\n",
       "    <tr>\n",
       "      <th>48</th>\n",
       "      <td>2.350818</td>\n",
       "      <td>1.492059</td>\n",
       "      <td>0.514672</td>\n",
       "    </tr>\n",
       "    <tr>\n",
       "      <th>49</th>\n",
       "      <td>2.354526</td>\n",
       "      <td>1.469783</td>\n",
       "      <td>0.705909</td>\n",
       "    </tr>\n",
       "  </tbody>\n",
       "</table>\n",
       "</div>"
      ],
      "text/plain": [
       "            lasso_rmse   lr_rmse  ridge_rmse\n",
       "poly_range                                  \n",
       "10            2.287430  1.906413    1.921752\n",
       "11            2.286194  1.897359    1.910782\n",
       "12            2.284683  1.625725    1.909448\n",
       "13            2.283578  1.339138    1.861958\n",
       "14            2.283160  1.325382    1.585558\n",
       "15            2.283362  0.913602    1.559023\n",
       "16            2.284079  0.716463    1.478898\n",
       "17            2.285069  0.685019    1.467680\n",
       "18            2.286037  0.708109    1.446605\n",
       "19            2.286852  0.666838    1.468125\n",
       "20            2.287426  0.652534    1.517265\n",
       "21            2.287715  0.627346    0.852582\n",
       "22            2.287715  0.536452    0.817736\n",
       "23            2.287457  0.537520    0.825759\n",
       "24            2.287006  0.623549    0.853573\n",
       "25            2.286451  0.711379    0.812540\n",
       "26            2.285907  0.811111    0.827819\n",
       "27            2.285495  0.975133    0.795666\n",
       "28            2.285307  1.100348    0.833012\n",
       "29            2.285410  1.159738    0.740346\n",
       "30            2.285875  1.154119    0.959559\n",
       "31            2.286763  1.256712    1.121801\n",
       "32            2.288124  1.312784    0.637506\n",
       "33            2.289984  1.374767    0.576720\n",
       "34            2.292349  1.356747    0.551070\n",
       "35            2.295201  1.343737    0.570692\n",
       "36            2.298504  1.318485    0.861208\n",
       "37            2.302208  1.291799    0.743893\n",
       "38            2.306252  1.269818    0.768603\n",
       "39            2.310567  1.264582    0.551645\n",
       "40            2.315083  1.277871    1.182666\n",
       "41            2.319728  1.336879    0.648078\n",
       "42            2.324435  1.809724    0.610697\n",
       "43            2.329140  1.507106    0.527200\n",
       "44            2.333783  1.493771    0.509379\n",
       "45            2.338313  1.586915    0.514578\n",
       "46            2.342685  1.470386    0.525634\n",
       "47            2.346863  1.464370    0.548344\n",
       "48            2.350818  1.492059    0.514672\n",
       "49            2.354526  1.469783    0.705909"
      ]
     },
     "execution_count": 66,
     "metadata": {},
     "output_type": "execute_result"
    }
   ],
   "source": [
    "import pandas as pd\n",
    "from pandas import DataFrame\n",
    "data = {'poly_range' : poly_range, 'lr_rmse' : rmse_lr_list,\n",
    "       'lasso_rmse' : rmse_lasso_list, 'ridge_rmse' : rmse_ridge_list}\n",
    "df = DataFrame(data).set_index('poly_range')\n",
    "df"
   ]
  },
  {
   "cell_type": "code",
   "execution_count": 67,
   "metadata": {},
   "outputs": [
    {
     "data": {
      "text/plain": [
       "lasso_rmse    2.283160\n",
       "lr_rmse       0.536452\n",
       "ridge_rmse    0.509379\n",
       "dtype: float64"
      ]
     },
     "execution_count": 67,
     "metadata": {},
     "output_type": "execute_result"
    }
   ],
   "source": [
    "df.min()"
   ]
  },
  {
   "cell_type": "code",
   "execution_count": 68,
   "metadata": {},
   "outputs": [
    {
     "data": {
      "image/png": "[encoded data removed]",
      "text/plain": [
       "<matplotlib.figure.Figure at 0x7f3798bcc6d8>"
      ]
     },
     "metadata": {},
     "output_type": "display_data"
    }
   ],
   "source": [
    "plt.plot(poly_range, df['ridge_rmse'], label = 'ridge')\n",
    "plt.plot(poly_range, df['lr_rmse'], label = 'lr')\n",
    "plt.plot(poly_range, df['lasso_rmse'], label = 'lasso')\n",
    "plt.legend()\n",
    "plt.show()"
   ]
  },
  {
   "cell_type": "markdown",
   "metadata": {},
   "source": [
    "### Challenge"
   ]
  },
  {
   "cell_type": "code",
   "execution_count": 87,
   "metadata": {},
   "outputs": [
    {
     "data": {
      "text/html": [
       "<div>\n",
       "<style>\n",
       "    .dataframe thead tr:only-child th {\n",
       "        text-align: right;\n",
       "    }\n",
       "\n",
       "    .dataframe thead th {\n",
       "        text-align: left;\n",
       "    }\n",
       "\n",
       "    .dataframe tbody tr th {\n",
       "        vertical-align: top;\n",
       "    }\n",
       "</style>\n",
       "<table border=\"1\" class=\"dataframe\">\n",
       "  <thead>\n",
       "    <tr style=\"text-align: right;\">\n",
       "      <th></th>\n",
       "      <th>i</th>\n",
       "      <th>Temp</th>\n",
       "      <th>Yield</th>\n",
       "    </tr>\n",
       "  </thead>\n",
       "  <tbody>\n",
       "    <tr>\n",
       "      <th>0</th>\n",
       "      <td>1</td>\n",
       "      <td>50</td>\n",
       "      <td>3.3</td>\n",
       "    </tr>\n",
       "    <tr>\n",
       "      <th>1</th>\n",
       "      <td>2</td>\n",
       "      <td>50</td>\n",
       "      <td>2.8</td>\n",
       "    </tr>\n",
       "    <tr>\n",
       "      <th>2</th>\n",
       "      <td>3</td>\n",
       "      <td>50</td>\n",
       "      <td>2.9</td>\n",
       "    </tr>\n",
       "    <tr>\n",
       "      <th>3</th>\n",
       "      <td>4</td>\n",
       "      <td>70</td>\n",
       "      <td>2.3</td>\n",
       "    </tr>\n",
       "    <tr>\n",
       "      <th>4</th>\n",
       "      <td>5</td>\n",
       "      <td>70</td>\n",
       "      <td>2.6</td>\n",
       "    </tr>\n",
       "  </tbody>\n",
       "</table>\n",
       "</div>"
      ],
      "text/plain": [
       "   i  Temp  Yield\n",
       "0  1    50    3.3\n",
       "1  2    50    2.8\n",
       "2  3    50    2.9\n",
       "3  4    70    2.3\n",
       "4  5    70    2.6"
      ]
     },
     "execution_count": 87,
     "metadata": {},
     "output_type": "execute_result"
    }
   ],
   "source": [
    "df = pd.read_csv('yield.csv', sep = '\\t')\n",
    "df.head()"
   ]
  },
  {
   "cell_type": "code",
   "execution_count": 88,
   "metadata": {},
   "outputs": [
    {
     "data": {
      "text/plain": [
       "(15, 3)"
      ]
     },
     "execution_count": 88,
     "metadata": {},
     "output_type": "execute_result"
    }
   ],
   "source": [
    "df.shape"
   ]
  },
  {
   "cell_type": "code",
   "execution_count": 89,
   "metadata": {},
   "outputs": [
    {
     "data": {
      "image/png": "[encoded data removed]",
      "text/plain": [
       "<matplotlib.figure.Figure at 0x7f37a0259550>"
      ]
     },
     "metadata": {},
     "output_type": "display_data"
    }
   ],
   "source": [
    "plt.scatter(df.Temp, df.Yield, s = 3, c = 'black')\n",
    "plt.show()"
   ]
  },
  {
   "cell_type": "code",
   "execution_count": 90,
   "metadata": {},
   "outputs": [
    {
     "name": "stderr",
     "output_type": "stream",
     "text": [
      "/home/jin-lab/anaconda3/lib/python3.6/site-packages/ipykernel_launcher.py:1: FutureWarning: reshape is deprecated and will raise in a subsequent release. Please use .values.reshape(...) instead\n",
      "  \"\"\"Entry point for launching an IPython kernel.\n"
     ]
    }
   ],
   "source": [
    "y = df.Yield.reshape(-1, 1)"
   ]
  },
  {
   "cell_type": "code",
   "execution_count": 91,
   "metadata": {},
   "outputs": [
    {
     "name": "stderr",
     "output_type": "stream",
     "text": [
      "/home/jin-lab/anaconda3/lib/python3.6/site-packages/ipykernel_launcher.py:11: FutureWarning: reshape is deprecated and will raise in a subsequent release. Please use .values.reshape(...) instead\n",
      "  # This is added back by InteractiveShellApp.init_path()\n",
      "/home/jin-lab/anaconda3/lib/python3.6/site-packages/sklearn/linear_model/coordinate_descent.py:491: ConvergenceWarning: Objective did not converge. You might want to increase the number of iterations. Fitting data with very small alpha may cause precision problems.\n",
      "  ConvergenceWarning)\n",
      "/home/jin-lab/anaconda3/lib/python3.6/site-packages/scipy/linalg/basic.py:223: RuntimeWarning: scipy.linalg.solve\n",
      "Ill-conditioned matrix detected. Result is not guaranteed to be accurate.\n",
      "Reciprocal condition number: 1.562437900412282e-18\n",
      "  ' condition number: {}'.format(rcond), RuntimeWarning)\n",
      "/home/jin-lab/anaconda3/lib/python3.6/site-packages/scipy/linalg/basic.py:223: RuntimeWarning: scipy.linalg.solve\n",
      "Ill-conditioned matrix detected. Result is not guaranteed to be accurate.\n",
      "Reciprocal condition number: 2.3340566769636414e-18\n",
      "  ' condition number: {}'.format(rcond), RuntimeWarning)\n"
     ]
    }
   ],
   "source": [
    "poly_range = list(range(2, 10))\n",
    "rmse_lr_list = []\n",
    "rmse_lasso_list = []\n",
    "rmse_ridge_list = []\n",
    "\n",
    "from sklearn.linear_model import Lasso\n",
    "from sklearn.linear_model import Ridge\n",
    "\n",
    "for poly_value in poly_range :\n",
    "    poly_features = PolynomialFeatures(degree = poly_value)\n",
    "    X_poly = poly_features.fit_transform(df.Temp.reshape(-1, 1))\n",
    "    lr = LinearRegression()\n",
    "    lr.fit(X_poly, y)\n",
    "    \n",
    "    rmse_lr_list.append(rmse(lr.predict(X_poly), y))\n",
    "    \n",
    "    lasso = Lasso(alpha=0.5, fit_intercept = False)\n",
    "    lasso.fit(X_poly, y)\n",
    "    rmse_lasso_list.append(rmse(lasso.predict(X_poly), y))\n",
    "    \n",
    "    ridge = Ridge(alpha=0.5, fit_intercept = False)\n",
    "    ridge.fit(X_poly, y)\n",
    "    rmse_ridge_list.append(rmse(ridge.predict(X_poly), y))"
   ]
  },
  {
   "cell_type": "code",
   "execution_count": 92,
   "metadata": {},
   "outputs": [
    {
     "data": {
      "text/html": [
       "<div>\n",
       "<style>\n",
       "    .dataframe thead tr:only-child th {\n",
       "        text-align: right;\n",
       "    }\n",
       "\n",
       "    .dataframe thead th {\n",
       "        text-align: left;\n",
       "    }\n",
       "\n",
       "    .dataframe tbody tr th {\n",
       "        vertical-align: top;\n",
       "    }\n",
       "</style>\n",
       "<table border=\"1\" class=\"dataframe\">\n",
       "  <thead>\n",
       "    <tr style=\"text-align: right;\">\n",
       "      <th></th>\n",
       "      <th>lasso_rmse</th>\n",
       "      <th>lr_rmse</th>\n",
       "      <th>ridge_rmse</th>\n",
       "    </tr>\n",
       "    <tr>\n",
       "      <th>poly_range</th>\n",
       "      <th></th>\n",
       "      <th></th>\n",
       "      <th></th>\n",
       "    </tr>\n",
       "  </thead>\n",
       "  <tbody>\n",
       "    <tr>\n",
       "      <th>2</th>\n",
       "      <td>0.462831</td>\n",
       "      <td>0.218597</td>\n",
       "      <td>0.430601</td>\n",
       "    </tr>\n",
       "    <tr>\n",
       "      <th>3</th>\n",
       "      <td>0.457513</td>\n",
       "      <td>0.196676</td>\n",
       "      <td>0.248293</td>\n",
       "    </tr>\n",
       "    <tr>\n",
       "      <th>4</th>\n",
       "      <td>0.454210</td>\n",
       "      <td>0.196638</td>\n",
       "      <td>0.198925</td>\n",
       "    </tr>\n",
       "    <tr>\n",
       "      <th>5</th>\n",
       "      <td>0.465950</td>\n",
       "      <td>0.196638</td>\n",
       "      <td>0.200107</td>\n",
       "    </tr>\n",
       "    <tr>\n",
       "      <th>6</th>\n",
       "      <td>0.468186</td>\n",
       "      <td>0.196638</td>\n",
       "      <td>0.196638</td>\n",
       "    </tr>\n",
       "    <tr>\n",
       "      <th>7</th>\n",
       "      <td>0.466982</td>\n",
       "      <td>0.196638</td>\n",
       "      <td>0.196638</td>\n",
       "    </tr>\n",
       "    <tr>\n",
       "      <th>8</th>\n",
       "      <td>0.464999</td>\n",
       "      <td>0.196638</td>\n",
       "      <td>0.196638</td>\n",
       "    </tr>\n",
       "    <tr>\n",
       "      <th>9</th>\n",
       "      <td>0.463118</td>\n",
       "      <td>0.196638</td>\n",
       "      <td>0.196638</td>\n",
       "    </tr>\n",
       "  </tbody>\n",
       "</table>\n",
       "</div>"
      ],
      "text/plain": [
       "            lasso_rmse   lr_rmse  ridge_rmse\n",
       "poly_range                                  \n",
       "2             0.462831  0.218597    0.430601\n",
       "3             0.457513  0.196676    0.248293\n",
       "4             0.454210  0.196638    0.198925\n",
       "5             0.465950  0.196638    0.200107\n",
       "6             0.468186  0.196638    0.196638\n",
       "7             0.466982  0.196638    0.196638\n",
       "8             0.464999  0.196638    0.196638\n",
       "9             0.463118  0.196638    0.196638"
      ]
     },
     "execution_count": 92,
     "metadata": {},
     "output_type": "execute_result"
    }
   ],
   "source": [
    "import pandas as pd\n",
    "from pandas import DataFrame\n",
    "data = {'poly_range' : poly_range, 'lr_rmse' : rmse_lr_list,\n",
    "       'lasso_rmse' : rmse_lasso_list, 'ridge_rmse' : rmse_ridge_list}\n",
    "df = DataFrame(data).set_index('poly_range')\n",
    "df"
   ]
  },
  {
   "cell_type": "code",
   "execution_count": 93,
   "metadata": {},
   "outputs": [
    {
     "data": {
      "text/plain": [
       "lasso_rmse    0.454210\n",
       "lr_rmse       0.196638\n",
       "ridge_rmse    0.196638\n",
       "dtype: float64"
      ]
     },
     "execution_count": 93,
     "metadata": {},
     "output_type": "execute_result"
    }
   ],
   "source": [
    "df.min()"
   ]
  },
  {
   "cell_type": "code",
   "execution_count": 94,
   "metadata": {},
   "outputs": [
    {
     "data": {
      "image/png": "[encoded data removed]",
      "text/plain": [
       "<matplotlib.figure.Figure at 0x7f37a0398278>"
      ]
     },
     "metadata": {},
     "output_type": "display_data"
    }
   ],
   "source": [
    "plt.plot(poly_range, df['ridge_rmse'], label = 'ridge')\n",
    "plt.plot(poly_range, df['lr_rmse'], label = 'lr')\n",
    "plt.plot(poly_range, df['lasso_rmse'], label = 'lasso')\n",
    "plt.legend()\n",
    "plt.show()"
   ]
  },
  {
   "cell_type": "markdown",
   "metadata": {},
   "source": [
    "약 degree가 3, 4일 때에 rmse가 가장 낮고, lasso는 0.47 정도 수준이 꾸준히 유지됨"
   ]
  },
  {
   "cell_type": "code",
   "execution_count": null,
   "metadata": {
    "collapsed": true
   },
   "outputs": [],
   "source": []
  }
 ],
 "metadata": {
  "kernelspec": {
   "display_name": "Python 3",
   "language": "python",
   "name": "python3"
  },
  "language_info": {
   "codemirror_mode": {
    "name": "ipython",
    "version": 3
   },
   "file_extension": ".py",
   "mimetype": "text/x-python",
   "name": "python",
   "nbconvert_exporter": "python",
   "pygments_lexer": "ipython3",
   "version": "3.6.4"
  }
 },
 "nbformat": 4,
 "nbformat_minor": 2
}
